{
 "cells": [
  {
   "cell_type": "markdown",
   "id": "a178f929",
   "metadata": {
    "papermill": {
     "duration": 0.013823,
     "end_time": "2023-01-05T11:29:07.978920",
     "exception": false,
     "start_time": "2023-01-05T11:29:07.965097",
     "status": "completed"
    },
    "tags": []
   },
   "source": [
    "# Linear Regression analysis for Predicting the Maintenance of Naval Vessels"
   ]
  },
  {
   "cell_type": "markdown",
   "id": "821f3bcd",
   "metadata": {
    "papermill": {
     "duration": 0.014062,
     "end_time": "2023-01-05T11:29:08.005647",
     "exception": false,
     "start_time": "2023-01-05T11:29:07.991585",
     "status": "completed"
    },
    "tags": []
   },
   "source": [
    "![https://www.defensenews.com/resizer/X3JjzjeaJNwN0LpTeC3c7bVAsrM=/1024x0/filters:format(jpg):quality(70)/cloudfront-us-east-1.images.arcpublishing.com/archetype/ETDNHU3UKJEKLHOOJX5YH6T4FQ.jpg](https://www.defensenews.com/resizer/X3JjzjeaJNwN0LpTeC3c7bVAsrM=/1024x0/filters:format(jpg):quality(70)/cloudfront-us-east-1.images.arcpublishing.com/archetype/ETDNHU3UKJEKLHOOJX5YH6T4FQ.jpg)"
   ]
  },
  {
   "cell_type": "markdown",
   "id": "97ff33d1",
   "metadata": {
    "papermill": {
     "duration": 0.012388,
     "end_time": "2023-01-05T11:29:08.030776",
     "exception": false,
     "start_time": "2023-01-05T11:29:08.018388",
     "status": "completed"
    },
    "tags": []
   },
   "source": [
    "# What is Predictive Maintenance?\n",
    "> - **Predictive maintenance** allows the maintenance frequency to be as low as possible to prevent unplanned **reactive maintenance**, and also without doing too much **preventive maintenance**.\n",
    "> - **Reactive Maintenance** is an **unplanned** maintenance and involves **restoring** equipment after it fails or breakdowns. The **cost** of reactive maintenance is **high** due to the unplanned production downtime, damaged machinery and overtime.\n",
    "> - **Preventive maintenance** is maintenance that is carried out **regularly** and **routinely** to reduce the chances of equipment failure **even** when the **machine** is in **good** condition and doesn't need a repair or maintenance.\n",
    "> - **Predictive maintenance** tackles both the disadvantages by **predicting** from **historical** and real-time **data** to **anticipate** problems before they happen using **Machine Learning Algorithm**."
   ]
  },
  {
   "cell_type": "markdown",
   "id": "aa1a2e85",
   "metadata": {
    "papermill": {
     "duration": 0.011874,
     "end_time": "2023-01-05T11:29:08.055246",
     "exception": false,
     "start_time": "2023-01-05T11:29:08.043372",
     "status": "completed"
    },
    "tags": []
   },
   "source": [
    "## Agenda of this notebook\n",
    "**In this notebook we will perform linear regression analysis for predicting the maintenance of Naval Vessels Condition with the help of dataset**"
   ]
  },
  {
   "cell_type": "markdown",
   "id": "d7062bf2",
   "metadata": {
    "papermill": {
     "duration": 0.01196,
     "end_time": "2023-01-05T11:29:08.079314",
     "exception": false,
     "start_time": "2023-01-05T11:29:08.067354",
     "status": "completed"
    },
    "tags": []
   },
   "source": [
    "## 1. Importing the Necessary libraries and the dataset\n",
    " - In this section we will **import** the Naval Vessel.csv file into the workbook and look at some basic information like number of rows and columns, their datatypes, notes(if any), missing values(if any).\n",
    " - Before importing the dataset, let's **import** the **basic libraries** for machine learning like pandas, numpy, matplotlib, seaborn"
   ]
  },
  {
   "cell_type": "code",
   "execution_count": 1,
   "id": "c918129a",
   "metadata": {
    "execution": {
     "iopub.execute_input": "2023-01-05T11:29:08.107106Z",
     "iopub.status.busy": "2023-01-05T11:29:08.106288Z",
     "iopub.status.idle": "2023-01-05T11:29:09.124344Z",
     "shell.execute_reply": "2023-01-05T11:29:09.122754Z"
    },
    "papermill": {
     "duration": 1.035518,
     "end_time": "2023-01-05T11:29:09.127347",
     "exception": false,
     "start_time": "2023-01-05T11:29:08.091829",
     "status": "completed"
    },
    "tags": []
   },
   "outputs": [],
   "source": [
    "# Importing the libraries\n",
    "import pandas as pd\n",
    "import numpy as np\n",
    "import matplotlib.pyplot as plt\n",
    "import seaborn as sns"
   ]
  },
  {
   "cell_type": "code",
   "execution_count": 2,
   "id": "0c9c8639",
   "metadata": {
    "execution": {
     "iopub.execute_input": "2023-01-05T11:29:09.155385Z",
     "iopub.status.busy": "2023-01-05T11:29:09.154972Z",
     "iopub.status.idle": "2023-01-05T11:29:09.162291Z",
     "shell.execute_reply": "2023-01-05T11:29:09.160797Z"
    },
    "papermill": {
     "duration": 0.024519,
     "end_time": "2023-01-05T11:29:09.165142",
     "exception": false,
     "start_time": "2023-01-05T11:29:09.140623",
     "status": "completed"
    },
    "tags": []
   },
   "outputs": [],
   "source": [
    "# To enable matplotlib visualization\n",
    "%matplotlib inline"
   ]
  },
  {
   "cell_type": "code",
   "execution_count": 19,
   "id": "40b2a63d",
   "metadata": {
    "execution": {
     "iopub.execute_input": "2023-01-05T11:29:09.192649Z",
     "iopub.status.busy": "2023-01-05T11:29:09.191556Z",
     "iopub.status.idle": "2023-01-05T11:29:09.266346Z",
     "shell.execute_reply": "2023-01-05T11:29:09.265301Z"
    },
    "papermill": {
     "duration": 0.090651,
     "end_time": "2023-01-05T11:29:09.268534",
     "exception": false,
     "start_time": "2023-01-05T11:29:09.177883",
     "status": "completed"
    },
    "tags": []
   },
   "outputs": [],
   "source": [
    "# Importing the Dataset using .read_csv() function of pandas\n",
    "# We will call the dataset as 'df'\n",
    "df = pd.read_csv('C:\\\\Users\\\\aksha\\\\OneDrive\\\\Desktop\\\\PredictiveMaintainance\\\\data.csv')"
   ]
  },
  {
   "cell_type": "code",
   "execution_count": 20,
   "id": "64654339",
   "metadata": {
    "execution": {
     "iopub.execute_input": "2023-01-05T11:29:09.295269Z",
     "iopub.status.busy": "2023-01-05T11:29:09.294576Z",
     "iopub.status.idle": "2023-01-05T11:29:09.325644Z",
     "shell.execute_reply": "2023-01-05T11:29:09.324421Z"
    },
    "papermill": {
     "duration": 0.046709,
     "end_time": "2023-01-05T11:29:09.327820",
     "exception": false,
     "start_time": "2023-01-05T11:29:09.281111",
     "status": "completed"
    },
    "tags": []
   },
   "outputs": [
    {
     "data": {
      "text/html": [
       "<div>\n",
       "<style scoped>\n",
       "    .dataframe tbody tr th:only-of-type {\n",
       "        vertical-align: middle;\n",
       "    }\n",
       "\n",
       "    .dataframe tbody tr th {\n",
       "        vertical-align: top;\n",
       "    }\n",
       "\n",
       "    .dataframe thead th {\n",
       "        text-align: right;\n",
       "    }\n",
       "</style>\n",
       "<table border=\"1\" class=\"dataframe\">\n",
       "  <thead>\n",
       "    <tr style=\"text-align: right;\">\n",
       "      <th></th>\n",
       "      <th>index</th>\n",
       "      <th>Lever position</th>\n",
       "      <th>Ship speed (v)</th>\n",
       "      <th>Gas Turbine (GT) shaft torque (GTT) [kN m]</th>\n",
       "      <th>GT rate of revolutions (GTn) [rpm]</th>\n",
       "      <th>Gas Generator rate of revolutions (GGn) [rpm]</th>\n",
       "      <th>Starboard Propeller Torque (Ts) [kN]</th>\n",
       "      <th>Port Propeller Torque (Tp) [kN]</th>\n",
       "      <th>Hight Pressure (HP) Turbine exit temperature (T48) [C]</th>\n",
       "      <th>GT Compressor inlet air temperature (T1) [C]</th>\n",
       "      <th>GT Compressor outlet air temperature (T2) [C]</th>\n",
       "      <th>HP Turbine exit pressure (P48) [bar]</th>\n",
       "      <th>GT Compressor inlet air pressure (P1) [bar]</th>\n",
       "      <th>GT Compressor outlet air pressure (P2) [bar]</th>\n",
       "      <th>GT exhaust gas pressure (Pexh) [bar]</th>\n",
       "      <th>Turbine Injecton Control (TIC) [%]</th>\n",
       "      <th>Fuel flow (mf) [kg/s]</th>\n",
       "      <th>GT Compressor decay state coefficient</th>\n",
       "      <th>GT Turbine decay state coefficient</th>\n",
       "    </tr>\n",
       "  </thead>\n",
       "  <tbody>\n",
       "    <tr>\n",
       "      <th>0</th>\n",
       "      <td>0</td>\n",
       "      <td>1.138</td>\n",
       "      <td>3</td>\n",
       "      <td>289.964</td>\n",
       "      <td>1349.489</td>\n",
       "      <td>6677.380</td>\n",
       "      <td>7.584</td>\n",
       "      <td>7.584</td>\n",
       "      <td>464.006</td>\n",
       "      <td>288</td>\n",
       "      <td>550.563</td>\n",
       "      <td>1.096</td>\n",
       "      <td>0.998</td>\n",
       "      <td>5.947</td>\n",
       "      <td>1.019</td>\n",
       "      <td>7.137</td>\n",
       "      <td>0.082</td>\n",
       "      <td>0.95</td>\n",
       "      <td>0.975</td>\n",
       "    </tr>\n",
       "    <tr>\n",
       "      <th>1</th>\n",
       "      <td>1</td>\n",
       "      <td>2.088</td>\n",
       "      <td>6</td>\n",
       "      <td>6960.180</td>\n",
       "      <td>1376.166</td>\n",
       "      <td>6828.469</td>\n",
       "      <td>28.204</td>\n",
       "      <td>28.204</td>\n",
       "      <td>635.401</td>\n",
       "      <td>288</td>\n",
       "      <td>581.658</td>\n",
       "      <td>1.331</td>\n",
       "      <td>0.998</td>\n",
       "      <td>7.282</td>\n",
       "      <td>1.019</td>\n",
       "      <td>10.655</td>\n",
       "      <td>0.287</td>\n",
       "      <td>0.95</td>\n",
       "      <td>0.975</td>\n",
       "    </tr>\n",
       "    <tr>\n",
       "      <th>2</th>\n",
       "      <td>2</td>\n",
       "      <td>3.144</td>\n",
       "      <td>9</td>\n",
       "      <td>8379.229</td>\n",
       "      <td>1386.757</td>\n",
       "      <td>7111.811</td>\n",
       "      <td>60.358</td>\n",
       "      <td>60.358</td>\n",
       "      <td>606.002</td>\n",
       "      <td>288</td>\n",
       "      <td>587.587</td>\n",
       "      <td>1.389</td>\n",
       "      <td>0.998</td>\n",
       "      <td>7.574</td>\n",
       "      <td>1.020</td>\n",
       "      <td>13.086</td>\n",
       "      <td>0.259</td>\n",
       "      <td>0.95</td>\n",
       "      <td>0.975</td>\n",
       "    </tr>\n",
       "    <tr>\n",
       "      <th>3</th>\n",
       "      <td>3</td>\n",
       "      <td>4.161</td>\n",
       "      <td>12</td>\n",
       "      <td>14724.395</td>\n",
       "      <td>1547.465</td>\n",
       "      <td>7792.630</td>\n",
       "      <td>113.774</td>\n",
       "      <td>113.774</td>\n",
       "      <td>661.471</td>\n",
       "      <td>288</td>\n",
       "      <td>613.851</td>\n",
       "      <td>1.658</td>\n",
       "      <td>0.998</td>\n",
       "      <td>9.007</td>\n",
       "      <td>1.022</td>\n",
       "      <td>18.109</td>\n",
       "      <td>0.358</td>\n",
       "      <td>0.95</td>\n",
       "      <td>0.975</td>\n",
       "    </tr>\n",
       "    <tr>\n",
       "      <th>4</th>\n",
       "      <td>4</td>\n",
       "      <td>5.140</td>\n",
       "      <td>15</td>\n",
       "      <td>21636.432</td>\n",
       "      <td>1924.313</td>\n",
       "      <td>8494.777</td>\n",
       "      <td>175.306</td>\n",
       "      <td>175.306</td>\n",
       "      <td>731.494</td>\n",
       "      <td>288</td>\n",
       "      <td>645.642</td>\n",
       "      <td>2.078</td>\n",
       "      <td>0.998</td>\n",
       "      <td>11.197</td>\n",
       "      <td>1.026</td>\n",
       "      <td>26.373</td>\n",
       "      <td>0.522</td>\n",
       "      <td>0.95</td>\n",
       "      <td>0.975</td>\n",
       "    </tr>\n",
       "  </tbody>\n",
       "</table>\n",
       "</div>"
      ],
      "text/plain": [
       "   index  Lever position   Ship speed (v)   \\\n",
       "0      0            1.138                3   \n",
       "1      1            2.088                6   \n",
       "2      2            3.144                9   \n",
       "3      3            4.161               12   \n",
       "4      4            5.140               15   \n",
       "\n",
       "   Gas Turbine (GT) shaft torque (GTT) [kN m]    \\\n",
       "0                                       289.964   \n",
       "1                                      6960.180   \n",
       "2                                      8379.229   \n",
       "3                                     14724.395   \n",
       "4                                     21636.432   \n",
       "\n",
       "   GT rate of revolutions (GTn) [rpm]    \\\n",
       "0                              1349.489   \n",
       "1                              1376.166   \n",
       "2                              1386.757   \n",
       "3                              1547.465   \n",
       "4                              1924.313   \n",
       "\n",
       "   Gas Generator rate of revolutions (GGn) [rpm]    \\\n",
       "0                                         6677.380   \n",
       "1                                         6828.469   \n",
       "2                                         7111.811   \n",
       "3                                         7792.630   \n",
       "4                                         8494.777   \n",
       "\n",
       "   Starboard Propeller Torque (Ts) [kN]    Port Propeller Torque (Tp) [kN]    \\\n",
       "0                                   7.584                              7.584   \n",
       "1                                  28.204                             28.204   \n",
       "2                                  60.358                             60.358   \n",
       "3                                 113.774                            113.774   \n",
       "4                                 175.306                            175.306   \n",
       "\n",
       "   Hight Pressure (HP) Turbine exit temperature (T48) [C]    \\\n",
       "0                                            464.006          \n",
       "1                                            635.401          \n",
       "2                                            606.002          \n",
       "3                                            661.471          \n",
       "4                                            731.494          \n",
       "\n",
       "   GT Compressor inlet air temperature (T1) [C]    \\\n",
       "0                                             288   \n",
       "1                                             288   \n",
       "2                                             288   \n",
       "3                                             288   \n",
       "4                                             288   \n",
       "\n",
       "   GT Compressor outlet air temperature (T2) [C]    \\\n",
       "0                                          550.563   \n",
       "1                                          581.658   \n",
       "2                                          587.587   \n",
       "3                                          613.851   \n",
       "4                                          645.642   \n",
       "\n",
       "   HP Turbine exit pressure (P48) [bar]    \\\n",
       "0                                   1.096   \n",
       "1                                   1.331   \n",
       "2                                   1.389   \n",
       "3                                   1.658   \n",
       "4                                   2.078   \n",
       "\n",
       "   GT Compressor inlet air pressure (P1) [bar]    \\\n",
       "0                                          0.998   \n",
       "1                                          0.998   \n",
       "2                                          0.998   \n",
       "3                                          0.998   \n",
       "4                                          0.998   \n",
       "\n",
       "   GT Compressor outlet air pressure (P2) [bar]    \\\n",
       "0                                           5.947   \n",
       "1                                           7.282   \n",
       "2                                           7.574   \n",
       "3                                           9.007   \n",
       "4                                          11.197   \n",
       "\n",
       "   GT exhaust gas pressure (Pexh) [bar]    \\\n",
       "0                                   1.019   \n",
       "1                                   1.019   \n",
       "2                                   1.020   \n",
       "3                                   1.022   \n",
       "4                                   1.026   \n",
       "\n",
       "   Turbine Injecton Control (TIC) [%]    Fuel flow (mf) [kg/s]    \\\n",
       "0                                 7.137                    0.082   \n",
       "1                                10.655                    0.287   \n",
       "2                                13.086                    0.259   \n",
       "3                                18.109                    0.358   \n",
       "4                                26.373                    0.522   \n",
       "\n",
       "   GT Compressor decay state coefficient    \\\n",
       "0                                     0.95   \n",
       "1                                     0.95   \n",
       "2                                     0.95   \n",
       "3                                     0.95   \n",
       "4                                     0.95   \n",
       "\n",
       "   GT Turbine decay state coefficient   \n",
       "0                                0.975  \n",
       "1                                0.975  \n",
       "2                                0.975  \n",
       "3                                0.975  \n",
       "4                                0.975  "
      ]
     },
     "execution_count": 20,
     "metadata": {},
     "output_type": "execute_result"
    }
   ],
   "source": [
    "# Let's check few rows of the dataset using .head() function of pandas\n",
    "df.head()"
   ]
  },
  {
   "cell_type": "markdown",
   "id": "7b2bed43",
   "metadata": {
    "papermill": {
     "duration": 0.012586,
     "end_time": "2023-01-05T11:29:09.353526",
     "exception": false,
     "start_time": "2023-01-05T11:29:09.340940",
     "status": "completed"
    },
    "tags": []
   },
   "source": [
    "### The publisher of this dataset left few information regarding the dataset. I will put them here\n",
    " - The dataset contains **19 columns**.\n",
    " - Therefore there are 1 index column **16 input features** and **2 output variables** present in the dataset."
   ]
  },
  {
   "cell_type": "code",
   "execution_count": 21,
   "id": "0f5477dc",
   "metadata": {
    "execution": {
     "iopub.execute_input": "2023-01-05T11:29:09.381547Z",
     "iopub.status.busy": "2023-01-05T11:29:09.381076Z",
     "iopub.status.idle": "2023-01-05T11:29:09.407341Z",
     "shell.execute_reply": "2023-01-05T11:29:09.406426Z"
    },
    "papermill": {
     "duration": 0.04354,
     "end_time": "2023-01-05T11:29:09.409911",
     "exception": false,
     "start_time": "2023-01-05T11:29:09.366371",
     "status": "completed"
    },
    "tags": []
   },
   "outputs": [
    {
     "name": "stdout",
     "output_type": "stream",
     "text": [
      "<class 'pandas.core.frame.DataFrame'>\n",
      "RangeIndex: 11934 entries, 0 to 11933\n",
      "Data columns (total 19 columns):\n",
      " #   Column                                                    Non-Null Count  Dtype  \n",
      "---  ------                                                    --------------  -----  \n",
      " 0   index                                                     11934 non-null  int64  \n",
      " 1   Lever position                                            11934 non-null  float64\n",
      " 2   Ship speed (v)                                            11934 non-null  int64  \n",
      " 3   Gas Turbine (GT) shaft torque (GTT) [kN m]                11934 non-null  float64\n",
      " 4   GT rate of revolutions (GTn) [rpm]                        11934 non-null  float64\n",
      " 5   Gas Generator rate of revolutions (GGn) [rpm]             11934 non-null  float64\n",
      " 6   Starboard Propeller Torque (Ts) [kN]                      11934 non-null  float64\n",
      " 7   Port Propeller Torque (Tp) [kN]                           11934 non-null  float64\n",
      " 8   Hight Pressure (HP) Turbine exit temperature (T48) [C]    11934 non-null  float64\n",
      " 9   GT Compressor inlet air temperature (T1) [C]              11934 non-null  int64  \n",
      " 10  GT Compressor outlet air temperature (T2) [C]             11934 non-null  float64\n",
      " 11  HP Turbine exit pressure (P48) [bar]                      11934 non-null  float64\n",
      " 12  GT Compressor inlet air pressure (P1) [bar]               11934 non-null  float64\n",
      " 13  GT Compressor outlet air pressure (P2) [bar]              11934 non-null  float64\n",
      " 14  GT exhaust gas pressure (Pexh) [bar]                      11934 non-null  float64\n",
      " 15  Turbine Injecton Control (TIC) [%]                        11934 non-null  float64\n",
      " 16  Fuel flow (mf) [kg/s]                                     11934 non-null  float64\n",
      " 17  GT Compressor decay state coefficient                     11934 non-null  float64\n",
      " 18  GT Turbine decay state coefficient                        11934 non-null  float64\n",
      "dtypes: float64(16), int64(3)\n",
      "memory usage: 1.7 MB\n"
     ]
    }
   ],
   "source": [
    "# We get the basic information of the dataset using .info() function of pandas\n",
    "df.info()"
   ]
  },
  {
   "cell_type": "markdown",
   "id": "d22c8861",
   "metadata": {
    "papermill": {
     "duration": 0.012873,
     "end_time": "2023-01-05T11:29:09.436194",
     "exception": false,
     "start_time": "2023-01-05T11:29:09.423321",
     "status": "completed"
    },
    "tags": []
   },
   "source": [
    "**By observing the information of the dataset since all the values are in float & int datatype and there is not missing values in our dataframe so its confirmed that our dataset is clean**"
   ]
  },
  {
   "cell_type": "code",
   "execution_count": 22,
   "id": "c7c02d9e",
   "metadata": {
    "execution": {
     "iopub.execute_input": "2023-01-05T11:29:09.466347Z",
     "iopub.status.busy": "2023-01-05T11:29:09.465492Z",
     "iopub.status.idle": "2023-01-05T11:29:09.545802Z",
     "shell.execute_reply": "2023-01-05T11:29:09.544445Z"
    },
    "papermill": {
     "duration": 0.099316,
     "end_time": "2023-01-05T11:29:09.548429",
     "exception": false,
     "start_time": "2023-01-05T11:29:09.449113",
     "status": "completed"
    },
    "tags": []
   },
   "outputs": [
    {
     "data": {
      "text/html": [
       "<div>\n",
       "<style scoped>\n",
       "    .dataframe tbody tr th:only-of-type {\n",
       "        vertical-align: middle;\n",
       "    }\n",
       "\n",
       "    .dataframe tbody tr th {\n",
       "        vertical-align: top;\n",
       "    }\n",
       "\n",
       "    .dataframe thead th {\n",
       "        text-align: right;\n",
       "    }\n",
       "</style>\n",
       "<table border=\"1\" class=\"dataframe\">\n",
       "  <thead>\n",
       "    <tr style=\"text-align: right;\">\n",
       "      <th></th>\n",
       "      <th>index</th>\n",
       "      <th>Lever position</th>\n",
       "      <th>Ship speed (v)</th>\n",
       "      <th>Gas Turbine (GT) shaft torque (GTT) [kN m]</th>\n",
       "      <th>GT rate of revolutions (GTn) [rpm]</th>\n",
       "      <th>Gas Generator rate of revolutions (GGn) [rpm]</th>\n",
       "      <th>Starboard Propeller Torque (Ts) [kN]</th>\n",
       "      <th>Port Propeller Torque (Tp) [kN]</th>\n",
       "      <th>Hight Pressure (HP) Turbine exit temperature (T48) [C]</th>\n",
       "      <th>GT Compressor inlet air temperature (T1) [C]</th>\n",
       "      <th>GT Compressor outlet air temperature (T2) [C]</th>\n",
       "      <th>HP Turbine exit pressure (P48) [bar]</th>\n",
       "      <th>GT Compressor inlet air pressure (P1) [bar]</th>\n",
       "      <th>GT Compressor outlet air pressure (P2) [bar]</th>\n",
       "      <th>GT exhaust gas pressure (Pexh) [bar]</th>\n",
       "      <th>Turbine Injecton Control (TIC) [%]</th>\n",
       "      <th>Fuel flow (mf) [kg/s]</th>\n",
       "      <th>GT Compressor decay state coefficient</th>\n",
       "      <th>GT Turbine decay state coefficient</th>\n",
       "    </tr>\n",
       "  </thead>\n",
       "  <tbody>\n",
       "    <tr>\n",
       "      <th>count</th>\n",
       "      <td>11934.000000</td>\n",
       "      <td>11934.000000</td>\n",
       "      <td>11934.000000</td>\n",
       "      <td>11934.000000</td>\n",
       "      <td>11934.000000</td>\n",
       "      <td>11934.000000</td>\n",
       "      <td>11934.000000</td>\n",
       "      <td>11934.000000</td>\n",
       "      <td>11934.000000</td>\n",
       "      <td>11934.0</td>\n",
       "      <td>11934.000000</td>\n",
       "      <td>11934.000000</td>\n",
       "      <td>1.193400e+04</td>\n",
       "      <td>11934.000000</td>\n",
       "      <td>11934.000000</td>\n",
       "      <td>11934.000000</td>\n",
       "      <td>11934.000000</td>\n",
       "      <td>11934.00000</td>\n",
       "      <td>11934.0000</td>\n",
       "    </tr>\n",
       "    <tr>\n",
       "      <th>mean</th>\n",
       "      <td>5966.500000</td>\n",
       "      <td>5.166667</td>\n",
       "      <td>15.000000</td>\n",
       "      <td>27247.498685</td>\n",
       "      <td>2136.289256</td>\n",
       "      <td>8200.947312</td>\n",
       "      <td>227.335768</td>\n",
       "      <td>227.335768</td>\n",
       "      <td>735.495446</td>\n",
       "      <td>288.0</td>\n",
       "      <td>646.215331</td>\n",
       "      <td>2.352963</td>\n",
       "      <td>9.980000e-01</td>\n",
       "      <td>12.297123</td>\n",
       "      <td>1.029474</td>\n",
       "      <td>33.641261</td>\n",
       "      <td>0.662440</td>\n",
       "      <td>0.97500</td>\n",
       "      <td>0.9875</td>\n",
       "    </tr>\n",
       "    <tr>\n",
       "      <th>std</th>\n",
       "      <td>3445.193391</td>\n",
       "      <td>2.626388</td>\n",
       "      <td>7.746291</td>\n",
       "      <td>22148.613155</td>\n",
       "      <td>774.083881</td>\n",
       "      <td>1091.315507</td>\n",
       "      <td>200.495889</td>\n",
       "      <td>200.495889</td>\n",
       "      <td>173.680552</td>\n",
       "      <td>0.0</td>\n",
       "      <td>72.675882</td>\n",
       "      <td>1.084770</td>\n",
       "      <td>2.220539e-16</td>\n",
       "      <td>5.337448</td>\n",
       "      <td>0.010390</td>\n",
       "      <td>25.841363</td>\n",
       "      <td>0.507132</td>\n",
       "      <td>0.01472</td>\n",
       "      <td>0.0075</td>\n",
       "    </tr>\n",
       "    <tr>\n",
       "      <th>min</th>\n",
       "      <td>0.000000</td>\n",
       "      <td>1.138000</td>\n",
       "      <td>3.000000</td>\n",
       "      <td>253.547000</td>\n",
       "      <td>1307.675000</td>\n",
       "      <td>6589.002000</td>\n",
       "      <td>5.304000</td>\n",
       "      <td>5.304000</td>\n",
       "      <td>442.364000</td>\n",
       "      <td>288.0</td>\n",
       "      <td>540.442000</td>\n",
       "      <td>1.093000</td>\n",
       "      <td>9.980000e-01</td>\n",
       "      <td>5.828000</td>\n",
       "      <td>1.019000</td>\n",
       "      <td>0.000000</td>\n",
       "      <td>0.068000</td>\n",
       "      <td>0.95000</td>\n",
       "      <td>0.9750</td>\n",
       "    </tr>\n",
       "    <tr>\n",
       "      <th>25%</th>\n",
       "      <td>2983.250000</td>\n",
       "      <td>3.144000</td>\n",
       "      <td>9.000000</td>\n",
       "      <td>8375.883750</td>\n",
       "      <td>1386.758000</td>\n",
       "      <td>7058.324000</td>\n",
       "      <td>60.317000</td>\n",
       "      <td>60.317000</td>\n",
       "      <td>589.872750</td>\n",
       "      <td>288.0</td>\n",
       "      <td>578.092250</td>\n",
       "      <td>1.389000</td>\n",
       "      <td>9.980000e-01</td>\n",
       "      <td>7.447250</td>\n",
       "      <td>1.020000</td>\n",
       "      <td>13.677500</td>\n",
       "      <td>0.246000</td>\n",
       "      <td>0.96200</td>\n",
       "      <td>0.9810</td>\n",
       "    </tr>\n",
       "    <tr>\n",
       "      <th>50%</th>\n",
       "      <td>5966.500000</td>\n",
       "      <td>5.140000</td>\n",
       "      <td>15.000000</td>\n",
       "      <td>21630.659000</td>\n",
       "      <td>1924.326000</td>\n",
       "      <td>8482.081500</td>\n",
       "      <td>175.268000</td>\n",
       "      <td>175.268000</td>\n",
       "      <td>706.038000</td>\n",
       "      <td>288.0</td>\n",
       "      <td>637.141500</td>\n",
       "      <td>2.083000</td>\n",
       "      <td>9.980000e-01</td>\n",
       "      <td>11.092000</td>\n",
       "      <td>1.026000</td>\n",
       "      <td>25.276500</td>\n",
       "      <td>0.496000</td>\n",
       "      <td>0.97500</td>\n",
       "      <td>0.9875</td>\n",
       "    </tr>\n",
       "    <tr>\n",
       "      <th>75%</th>\n",
       "      <td>8949.750000</td>\n",
       "      <td>7.148000</td>\n",
       "      <td>21.000000</td>\n",
       "      <td>39001.426750</td>\n",
       "      <td>2678.079000</td>\n",
       "      <td>9132.606000</td>\n",
       "      <td>332.364750</td>\n",
       "      <td>332.364750</td>\n",
       "      <td>834.066250</td>\n",
       "      <td>288.0</td>\n",
       "      <td>693.924500</td>\n",
       "      <td>2.981000</td>\n",
       "      <td>9.980000e-01</td>\n",
       "      <td>15.658000</td>\n",
       "      <td>1.036000</td>\n",
       "      <td>44.552500</td>\n",
       "      <td>0.882000</td>\n",
       "      <td>0.98800</td>\n",
       "      <td>0.9940</td>\n",
       "    </tr>\n",
       "    <tr>\n",
       "      <th>max</th>\n",
       "      <td>11933.000000</td>\n",
       "      <td>9.300000</td>\n",
       "      <td>27.000000</td>\n",
       "      <td>72784.872000</td>\n",
       "      <td>3560.741000</td>\n",
       "      <td>9797.103000</td>\n",
       "      <td>645.249000</td>\n",
       "      <td>645.249000</td>\n",
       "      <td>1115.797000</td>\n",
       "      <td>288.0</td>\n",
       "      <td>789.094000</td>\n",
       "      <td>4.560000</td>\n",
       "      <td>9.980000e-01</td>\n",
       "      <td>23.140000</td>\n",
       "      <td>1.052000</td>\n",
       "      <td>92.556000</td>\n",
       "      <td>1.832000</td>\n",
       "      <td>1.00000</td>\n",
       "      <td>1.0000</td>\n",
       "    </tr>\n",
       "  </tbody>\n",
       "</table>\n",
       "</div>"
      ],
      "text/plain": [
       "              index  Lever position   Ship speed (v)   \\\n",
       "count  11934.000000     11934.000000     11934.000000   \n",
       "mean    5966.500000         5.166667        15.000000   \n",
       "std     3445.193391         2.626388         7.746291   \n",
       "min        0.000000         1.138000         3.000000   \n",
       "25%     2983.250000         3.144000         9.000000   \n",
       "50%     5966.500000         5.140000        15.000000   \n",
       "75%     8949.750000         7.148000        21.000000   \n",
       "max    11933.000000         9.300000        27.000000   \n",
       "\n",
       "       Gas Turbine (GT) shaft torque (GTT) [kN m]    \\\n",
       "count                                  11934.000000   \n",
       "mean                                   27247.498685   \n",
       "std                                    22148.613155   \n",
       "min                                      253.547000   \n",
       "25%                                     8375.883750   \n",
       "50%                                    21630.659000   \n",
       "75%                                    39001.426750   \n",
       "max                                    72784.872000   \n",
       "\n",
       "       GT rate of revolutions (GTn) [rpm]    \\\n",
       "count                          11934.000000   \n",
       "mean                            2136.289256   \n",
       "std                              774.083881   \n",
       "min                             1307.675000   \n",
       "25%                             1386.758000   \n",
       "50%                             1924.326000   \n",
       "75%                             2678.079000   \n",
       "max                             3560.741000   \n",
       "\n",
       "       Gas Generator rate of revolutions (GGn) [rpm]    \\\n",
       "count                                     11934.000000   \n",
       "mean                                       8200.947312   \n",
       "std                                        1091.315507   \n",
       "min                                        6589.002000   \n",
       "25%                                        7058.324000   \n",
       "50%                                        8482.081500   \n",
       "75%                                        9132.606000   \n",
       "max                                        9797.103000   \n",
       "\n",
       "       Starboard Propeller Torque (Ts) [kN]    \\\n",
       "count                            11934.000000   \n",
       "mean                               227.335768   \n",
       "std                                200.495889   \n",
       "min                                  5.304000   \n",
       "25%                                 60.317000   \n",
       "50%                                175.268000   \n",
       "75%                                332.364750   \n",
       "max                                645.249000   \n",
       "\n",
       "       Port Propeller Torque (Tp) [kN]    \\\n",
       "count                       11934.000000   \n",
       "mean                          227.335768   \n",
       "std                           200.495889   \n",
       "min                             5.304000   \n",
       "25%                            60.317000   \n",
       "50%                           175.268000   \n",
       "75%                           332.364750   \n",
       "max                           645.249000   \n",
       "\n",
       "       Hight Pressure (HP) Turbine exit temperature (T48) [C]    \\\n",
       "count                                       11934.000000          \n",
       "mean                                          735.495446          \n",
       "std                                           173.680552          \n",
       "min                                           442.364000          \n",
       "25%                                           589.872750          \n",
       "50%                                           706.038000          \n",
       "75%                                           834.066250          \n",
       "max                                          1115.797000          \n",
       "\n",
       "       GT Compressor inlet air temperature (T1) [C]    \\\n",
       "count                                         11934.0   \n",
       "mean                                            288.0   \n",
       "std                                               0.0   \n",
       "min                                             288.0   \n",
       "25%                                             288.0   \n",
       "50%                                             288.0   \n",
       "75%                                             288.0   \n",
       "max                                             288.0   \n",
       "\n",
       "       GT Compressor outlet air temperature (T2) [C]    \\\n",
       "count                                     11934.000000   \n",
       "mean                                        646.215331   \n",
       "std                                          72.675882   \n",
       "min                                         540.442000   \n",
       "25%                                         578.092250   \n",
       "50%                                         637.141500   \n",
       "75%                                         693.924500   \n",
       "max                                         789.094000   \n",
       "\n",
       "       HP Turbine exit pressure (P48) [bar]    \\\n",
       "count                            11934.000000   \n",
       "mean                                 2.352963   \n",
       "std                                  1.084770   \n",
       "min                                  1.093000   \n",
       "25%                                  1.389000   \n",
       "50%                                  2.083000   \n",
       "75%                                  2.981000   \n",
       "max                                  4.560000   \n",
       "\n",
       "       GT Compressor inlet air pressure (P1) [bar]    \\\n",
       "count                                   1.193400e+04   \n",
       "mean                                    9.980000e-01   \n",
       "std                                     2.220539e-16   \n",
       "min                                     9.980000e-01   \n",
       "25%                                     9.980000e-01   \n",
       "50%                                     9.980000e-01   \n",
       "75%                                     9.980000e-01   \n",
       "max                                     9.980000e-01   \n",
       "\n",
       "       GT Compressor outlet air pressure (P2) [bar]    \\\n",
       "count                                    11934.000000   \n",
       "mean                                        12.297123   \n",
       "std                                          5.337448   \n",
       "min                                          5.828000   \n",
       "25%                                          7.447250   \n",
       "50%                                         11.092000   \n",
       "75%                                         15.658000   \n",
       "max                                         23.140000   \n",
       "\n",
       "       GT exhaust gas pressure (Pexh) [bar]    \\\n",
       "count                            11934.000000   \n",
       "mean                                 1.029474   \n",
       "std                                  0.010390   \n",
       "min                                  1.019000   \n",
       "25%                                  1.020000   \n",
       "50%                                  1.026000   \n",
       "75%                                  1.036000   \n",
       "max                                  1.052000   \n",
       "\n",
       "       Turbine Injecton Control (TIC) [%]    Fuel flow (mf) [kg/s]    \\\n",
       "count                          11934.000000             11934.000000   \n",
       "mean                              33.641261                 0.662440   \n",
       "std                               25.841363                 0.507132   \n",
       "min                                0.000000                 0.068000   \n",
       "25%                               13.677500                 0.246000   \n",
       "50%                               25.276500                 0.496000   \n",
       "75%                               44.552500                 0.882000   \n",
       "max                               92.556000                 1.832000   \n",
       "\n",
       "       GT Compressor decay state coefficient    \\\n",
       "count                              11934.00000   \n",
       "mean                                   0.97500   \n",
       "std                                    0.01472   \n",
       "min                                    0.95000   \n",
       "25%                                    0.96200   \n",
       "50%                                    0.97500   \n",
       "75%                                    0.98800   \n",
       "max                                    1.00000   \n",
       "\n",
       "       GT Turbine decay state coefficient   \n",
       "count                           11934.0000  \n",
       "mean                                0.9875  \n",
       "std                                 0.0075  \n",
       "min                                 0.9750  \n",
       "25%                                 0.9810  \n",
       "50%                                 0.9875  \n",
       "75%                                 0.9940  \n",
       "max                                 1.0000  "
      ]
     },
     "execution_count": 22,
     "metadata": {},
     "output_type": "execute_result"
    }
   ],
   "source": [
    "# Using .describe() function of pandas we can able to know some basic parameters of each columns\n",
    "df.describe()"
   ]
  },
  {
   "cell_type": "markdown",
   "id": "b6178b1f",
   "metadata": {
    "papermill": {
     "duration": 0.015987,
     "end_time": "2023-01-05T11:29:09.581450",
     "exception": false,
     "start_time": "2023-01-05T11:29:09.565463",
     "status": "completed"
    },
    "tags": []
   },
   "source": [
    "**Since from .describe() function all the values in column ['GT Compressor inlet air temperature (T1) [C]'] & ['GT Compressor inlet air pressure (P1) [bar]'] are same we use .drop() function to drop those two columns as the output labels doesn't depend on these two input features as they remain constant**"
   ]
  },
  {
   "cell_type": "code",
   "execution_count": 23,
   "id": "0ebfaf7d",
   "metadata": {
    "execution": {
     "iopub.execute_input": "2023-01-05T11:29:09.610393Z",
     "iopub.status.busy": "2023-01-05T11:29:09.610055Z",
     "iopub.status.idle": "2023-01-05T11:29:09.618756Z",
     "shell.execute_reply": "2023-01-05T11:29:09.617253Z"
    },
    "papermill": {
     "duration": 0.02623,
     "end_time": "2023-01-05T11:29:09.621395",
     "exception": false,
     "start_time": "2023-01-05T11:29:09.595165",
     "status": "completed"
    },
    "tags": []
   },
   "outputs": [
    {
     "data": {
      "text/plain": [
       "GT Compressor inlet air temperature (T1) [C]  \n",
       "288    11934\n",
       "Name: count, dtype: int64"
      ]
     },
     "execution_count": 23,
     "metadata": {},
     "output_type": "execute_result"
    }
   ],
   "source": [
    "# Using .value_counts() function of pandas to return a series containing counts of unique values \n",
    "df['GT Compressor inlet air temperature (T1) [C]\\xa0 '].value_counts()"
   ]
  },
  {
   "cell_type": "code",
   "execution_count": 24,
   "id": "4e836b29",
   "metadata": {
    "execution": {
     "iopub.execute_input": "2023-01-05T11:29:09.650881Z",
     "iopub.status.busy": "2023-01-05T11:29:09.650506Z",
     "iopub.status.idle": "2023-01-05T11:29:09.657684Z",
     "shell.execute_reply": "2023-01-05T11:29:09.656254Z"
    },
    "papermill": {
     "duration": 0.025324,
     "end_time": "2023-01-05T11:29:09.660525",
     "exception": false,
     "start_time": "2023-01-05T11:29:09.635201",
     "status": "completed"
    },
    "tags": []
   },
   "outputs": [],
   "source": [
    "# Using .drop() function of pandas to drop out the two columns and we will call the dataset as 'nv'\n",
    "nv = df.drop(['GT Compressor inlet air temperature (T1) [C]\\xa0 ','GT Compressor inlet air pressure (P1) [bar]\\xa0 '],axis=1)"
   ]
  },
  {
   "cell_type": "code",
   "execution_count": 25,
   "id": "ee3e4e5d",
   "metadata": {
    "execution": {
     "iopub.execute_input": "2023-01-05T11:29:09.689686Z",
     "iopub.status.busy": "2023-01-05T11:29:09.689256Z",
     "iopub.status.idle": "2023-01-05T11:29:09.710731Z",
     "shell.execute_reply": "2023-01-05T11:29:09.709463Z"
    },
    "papermill": {
     "duration": 0.038866,
     "end_time": "2023-01-05T11:29:09.713228",
     "exception": false,
     "start_time": "2023-01-05T11:29:09.674362",
     "status": "completed"
    },
    "tags": []
   },
   "outputs": [
    {
     "data": {
      "text/html": [
       "<div>\n",
       "<style scoped>\n",
       "    .dataframe tbody tr th:only-of-type {\n",
       "        vertical-align: middle;\n",
       "    }\n",
       "\n",
       "    .dataframe tbody tr th {\n",
       "        vertical-align: top;\n",
       "    }\n",
       "\n",
       "    .dataframe thead th {\n",
       "        text-align: right;\n",
       "    }\n",
       "</style>\n",
       "<table border=\"1\" class=\"dataframe\">\n",
       "  <thead>\n",
       "    <tr style=\"text-align: right;\">\n",
       "      <th></th>\n",
       "      <th>index</th>\n",
       "      <th>Lever position</th>\n",
       "      <th>Ship speed (v)</th>\n",
       "      <th>Gas Turbine (GT) shaft torque (GTT) [kN m]</th>\n",
       "      <th>GT rate of revolutions (GTn) [rpm]</th>\n",
       "      <th>Gas Generator rate of revolutions (GGn) [rpm]</th>\n",
       "      <th>Starboard Propeller Torque (Ts) [kN]</th>\n",
       "      <th>Port Propeller Torque (Tp) [kN]</th>\n",
       "      <th>Hight Pressure (HP) Turbine exit temperature (T48) [C]</th>\n",
       "      <th>GT Compressor outlet air temperature (T2) [C]</th>\n",
       "      <th>HP Turbine exit pressure (P48) [bar]</th>\n",
       "      <th>GT Compressor outlet air pressure (P2) [bar]</th>\n",
       "      <th>GT exhaust gas pressure (Pexh) [bar]</th>\n",
       "      <th>Turbine Injecton Control (TIC) [%]</th>\n",
       "      <th>Fuel flow (mf) [kg/s]</th>\n",
       "      <th>GT Compressor decay state coefficient</th>\n",
       "      <th>GT Turbine decay state coefficient</th>\n",
       "    </tr>\n",
       "  </thead>\n",
       "  <tbody>\n",
       "    <tr>\n",
       "      <th>0</th>\n",
       "      <td>0</td>\n",
       "      <td>1.138</td>\n",
       "      <td>3</td>\n",
       "      <td>289.964</td>\n",
       "      <td>1349.489</td>\n",
       "      <td>6677.380</td>\n",
       "      <td>7.584</td>\n",
       "      <td>7.584</td>\n",
       "      <td>464.006</td>\n",
       "      <td>550.563</td>\n",
       "      <td>1.096</td>\n",
       "      <td>5.947</td>\n",
       "      <td>1.019</td>\n",
       "      <td>7.137</td>\n",
       "      <td>0.082</td>\n",
       "      <td>0.95</td>\n",
       "      <td>0.975</td>\n",
       "    </tr>\n",
       "    <tr>\n",
       "      <th>1</th>\n",
       "      <td>1</td>\n",
       "      <td>2.088</td>\n",
       "      <td>6</td>\n",
       "      <td>6960.180</td>\n",
       "      <td>1376.166</td>\n",
       "      <td>6828.469</td>\n",
       "      <td>28.204</td>\n",
       "      <td>28.204</td>\n",
       "      <td>635.401</td>\n",
       "      <td>581.658</td>\n",
       "      <td>1.331</td>\n",
       "      <td>7.282</td>\n",
       "      <td>1.019</td>\n",
       "      <td>10.655</td>\n",
       "      <td>0.287</td>\n",
       "      <td>0.95</td>\n",
       "      <td>0.975</td>\n",
       "    </tr>\n",
       "    <tr>\n",
       "      <th>2</th>\n",
       "      <td>2</td>\n",
       "      <td>3.144</td>\n",
       "      <td>9</td>\n",
       "      <td>8379.229</td>\n",
       "      <td>1386.757</td>\n",
       "      <td>7111.811</td>\n",
       "      <td>60.358</td>\n",
       "      <td>60.358</td>\n",
       "      <td>606.002</td>\n",
       "      <td>587.587</td>\n",
       "      <td>1.389</td>\n",
       "      <td>7.574</td>\n",
       "      <td>1.020</td>\n",
       "      <td>13.086</td>\n",
       "      <td>0.259</td>\n",
       "      <td>0.95</td>\n",
       "      <td>0.975</td>\n",
       "    </tr>\n",
       "    <tr>\n",
       "      <th>3</th>\n",
       "      <td>3</td>\n",
       "      <td>4.161</td>\n",
       "      <td>12</td>\n",
       "      <td>14724.395</td>\n",
       "      <td>1547.465</td>\n",
       "      <td>7792.630</td>\n",
       "      <td>113.774</td>\n",
       "      <td>113.774</td>\n",
       "      <td>661.471</td>\n",
       "      <td>613.851</td>\n",
       "      <td>1.658</td>\n",
       "      <td>9.007</td>\n",
       "      <td>1.022</td>\n",
       "      <td>18.109</td>\n",
       "      <td>0.358</td>\n",
       "      <td>0.95</td>\n",
       "      <td>0.975</td>\n",
       "    </tr>\n",
       "    <tr>\n",
       "      <th>4</th>\n",
       "      <td>4</td>\n",
       "      <td>5.140</td>\n",
       "      <td>15</td>\n",
       "      <td>21636.432</td>\n",
       "      <td>1924.313</td>\n",
       "      <td>8494.777</td>\n",
       "      <td>175.306</td>\n",
       "      <td>175.306</td>\n",
       "      <td>731.494</td>\n",
       "      <td>645.642</td>\n",
       "      <td>2.078</td>\n",
       "      <td>11.197</td>\n",
       "      <td>1.026</td>\n",
       "      <td>26.373</td>\n",
       "      <td>0.522</td>\n",
       "      <td>0.95</td>\n",
       "      <td>0.975</td>\n",
       "    </tr>\n",
       "  </tbody>\n",
       "</table>\n",
       "</div>"
      ],
      "text/plain": [
       "   index  Lever position   Ship speed (v)   \\\n",
       "0      0            1.138                3   \n",
       "1      1            2.088                6   \n",
       "2      2            3.144                9   \n",
       "3      3            4.161               12   \n",
       "4      4            5.140               15   \n",
       "\n",
       "   Gas Turbine (GT) shaft torque (GTT) [kN m]    \\\n",
       "0                                       289.964   \n",
       "1                                      6960.180   \n",
       "2                                      8379.229   \n",
       "3                                     14724.395   \n",
       "4                                     21636.432   \n",
       "\n",
       "   GT rate of revolutions (GTn) [rpm]    \\\n",
       "0                              1349.489   \n",
       "1                              1376.166   \n",
       "2                              1386.757   \n",
       "3                              1547.465   \n",
       "4                              1924.313   \n",
       "\n",
       "   Gas Generator rate of revolutions (GGn) [rpm]    \\\n",
       "0                                         6677.380   \n",
       "1                                         6828.469   \n",
       "2                                         7111.811   \n",
       "3                                         7792.630   \n",
       "4                                         8494.777   \n",
       "\n",
       "   Starboard Propeller Torque (Ts) [kN]    Port Propeller Torque (Tp) [kN]    \\\n",
       "0                                   7.584                              7.584   \n",
       "1                                  28.204                             28.204   \n",
       "2                                  60.358                             60.358   \n",
       "3                                 113.774                            113.774   \n",
       "4                                 175.306                            175.306   \n",
       "\n",
       "   Hight Pressure (HP) Turbine exit temperature (T48) [C]    \\\n",
       "0                                            464.006          \n",
       "1                                            635.401          \n",
       "2                                            606.002          \n",
       "3                                            661.471          \n",
       "4                                            731.494          \n",
       "\n",
       "   GT Compressor outlet air temperature (T2) [C]    \\\n",
       "0                                          550.563   \n",
       "1                                          581.658   \n",
       "2                                          587.587   \n",
       "3                                          613.851   \n",
       "4                                          645.642   \n",
       "\n",
       "   HP Turbine exit pressure (P48) [bar]    \\\n",
       "0                                   1.096   \n",
       "1                                   1.331   \n",
       "2                                   1.389   \n",
       "3                                   1.658   \n",
       "4                                   2.078   \n",
       "\n",
       "   GT Compressor outlet air pressure (P2) [bar]    \\\n",
       "0                                           5.947   \n",
       "1                                           7.282   \n",
       "2                                           7.574   \n",
       "3                                           9.007   \n",
       "4                                          11.197   \n",
       "\n",
       "   GT exhaust gas pressure (Pexh) [bar]    \\\n",
       "0                                   1.019   \n",
       "1                                   1.019   \n",
       "2                                   1.020   \n",
       "3                                   1.022   \n",
       "4                                   1.026   \n",
       "\n",
       "   Turbine Injecton Control (TIC) [%]    Fuel flow (mf) [kg/s]    \\\n",
       "0                                 7.137                    0.082   \n",
       "1                                10.655                    0.287   \n",
       "2                                13.086                    0.259   \n",
       "3                                18.109                    0.358   \n",
       "4                                26.373                    0.522   \n",
       "\n",
       "   GT Compressor decay state coefficient    \\\n",
       "0                                     0.95   \n",
       "1                                     0.95   \n",
       "2                                     0.95   \n",
       "3                                     0.95   \n",
       "4                                     0.95   \n",
       "\n",
       "   GT Turbine decay state coefficient   \n",
       "0                                0.975  \n",
       "1                                0.975  \n",
       "2                                0.975  \n",
       "3                                0.975  \n",
       "4                                0.975  "
      ]
     },
     "execution_count": 25,
     "metadata": {},
     "output_type": "execute_result"
    }
   ],
   "source": [
    "# Checking out the head of the dataframe with those two features removed\n",
    "nv.head()"
   ]
  },
  {
   "cell_type": "markdown",
   "id": "208ee012",
   "metadata": {
    "papermill": {
     "duration": 0.014301,
     "end_time": "2023-01-05T11:29:09.742197",
     "exception": false,
     "start_time": "2023-01-05T11:29:09.727896",
     "status": "completed"
    },
    "tags": []
   },
   "source": [
    "## 2. Data Visualization"
   ]
  },
  {
   "cell_type": "markdown",
   "id": "fae65a61",
   "metadata": {
    "papermill": {
     "duration": 0.013601,
     "end_time": "2023-01-05T11:29:09.769531",
     "exception": false,
     "start_time": "2023-01-05T11:29:09.755930",
     "status": "completed"
    },
    "tags": []
   },
   "source": [
    "- In this section we will **visualize** the **data** in the form of **heatmaps**\n",
    "- Here we will consider both **'GT Compressor decay state coefficient'** & **'GT Turbine decay state coefficient'** as labels and predict those using the **14 features**"
   ]
  },
  {
   "cell_type": "code",
   "execution_count": 26,
   "id": "0eda9da8",
   "metadata": {
    "execution": {
     "iopub.execute_input": "2023-01-05T11:29:09.799196Z",
     "iopub.status.busy": "2023-01-05T11:29:09.798797Z",
     "iopub.status.idle": "2023-01-05T11:29:10.712131Z",
     "shell.execute_reply": "2023-01-05T11:29:10.710691Z"
    },
    "papermill": {
     "duration": 0.930975,
     "end_time": "2023-01-05T11:29:10.714564",
     "exception": false,
     "start_time": "2023-01-05T11:29:09.783589",
     "status": "completed"
    },
    "tags": []
   },
   "outputs": [
    {
     "data": {
      "image/png": "[encoded data removed]",
      "text/plain": [
       "<Figure size 2400x1100 with 2 Axes>"
      ]
     },
     "metadata": {},
     "output_type": "display_data"
    }
   ],
   "source": [
    "# Creating the heatmap\n",
    "# First create a space for the heatmap and then draw the heatmap inside the space\n",
    "\n",
    "fig, ax = plt.subplots(figsize = (24,11))\n",
    "\n",
    "# Title for the heatmap\n",
    "title = 'Correlation Heatmap of the Naval Vessel Condition'\n",
    "plt.title(title,fontsize = 25)\n",
    "\n",
    "# We will use the variable called mask to remove the values across the heatmap diagonally as it will be the same\n",
    "mask = np.triu(np.ones_like(nv.corr()))\n",
    "\n",
    "# Correlation heatmap using .heatmap() function of sns library\n",
    "sns.heatmap(nv.corr(), cbar = True, cmap = 'icefire', annot = True, linewidth = 1, ax = ax, mask = mask)\n",
    "\n",
    "# Enable visualization using .show() function of matplotlib\n",
    "plt.show()"
   ]
  },
  {
   "cell_type": "markdown",
   "id": "e01c184d",
   "metadata": {
    "papermill": {
     "duration": 0.015889,
     "end_time": "2023-01-05T11:29:10.747190",
     "exception": false,
     "start_time": "2023-01-05T11:29:10.731301",
     "status": "completed"
    },
    "tags": []
   },
   "source": [
    "## Inference from heatmap\n",
    "\n",
    "1. There exists a very **strong positive correlation** among **all** the **input** features \n",
    "2. As you can see **most** of the **input** features have a **correlation value** of **0.97** and above\n",
    "3. This means that when an **input feature increases** by one unit the correlated feature **corresponding** to that **input feature also increases** by one unit\n",
    "4. These input **correlations** will be useful in **finetuning** the base model in the future in the form of **interaction** terms\n",
    "5. Both the **output labels** have almost **no correlation with** any of the **input** features"
   ]
  },
  {
   "cell_type": "markdown",
   "id": "7573dda4",
   "metadata": {
    "papermill": {
     "duration": 0.016023,
     "end_time": "2023-01-05T11:29:10.779974",
     "exception": false,
     "start_time": "2023-01-05T11:29:10.763951",
     "status": "completed"
    },
    "tags": []
   },
   "source": [
    "**Before proceeding further, to make the indexing of columns easier we have changed the names of column into simplified terms so that it can be called easily in future**"
   ]
  },
  {
   "cell_type": "code",
   "execution_count": 32,
   "id": "4a456e21",
   "metadata": {
    "execution": {
     "iopub.execute_input": "2023-01-05T11:29:10.814778Z",
     "iopub.status.busy": "2023-01-05T11:29:10.814387Z",
     "iopub.status.idle": "2023-01-05T11:29:14.304611Z",
     "shell.execute_reply": "2023-01-05T11:29:14.303451Z"
    },
    "papermill": {
     "duration": 3.509689,
     "end_time": "2023-01-05T11:29:14.306984",
     "exception": false,
     "start_time": "2023-01-05T11:29:10.797295",
     "status": "completed"
    },
    "tags": []
   },
   "outputs": [],
   "source": [
    "# Importing the New Dataset using .read_excel() function of pandas\n",
    "# We will call the dataset as 'ns'\n",
    "ns = pd.read_excel('C:\\\\Users\\\\aksha\\\\OneDrive\\\\Desktop\\\\PredictiveMaintainance\\\\data.xlsx')\n"
   ]
  },
  {
   "cell_type": "code",
   "execution_count": 33,
   "id": "b64f0c66",
   "metadata": {
    "execution": {
     "iopub.execute_input": "2023-01-05T11:29:14.341730Z",
     "iopub.status.busy": "2023-01-05T11:29:14.341302Z",
     "iopub.status.idle": "2023-01-05T11:29:14.363772Z",
     "shell.execute_reply": "2023-01-05T11:29:14.362730Z"
    },
    "papermill": {
     "duration": 0.043233,
     "end_time": "2023-01-05T11:29:14.366638",
     "exception": false,
     "start_time": "2023-01-05T11:29:14.323405",
     "status": "completed"
    },
    "tags": []
   },
   "outputs": [
    {
     "data": {
      "text/html": [
       "<div>\n",
       "<style scoped>\n",
       "    .dataframe tbody tr th:only-of-type {\n",
       "        vertical-align: middle;\n",
       "    }\n",
       "\n",
       "    .dataframe tbody tr th {\n",
       "        vertical-align: top;\n",
       "    }\n",
       "\n",
       "    .dataframe thead th {\n",
       "        text-align: right;\n",
       "    }\n",
       "</style>\n",
       "<table border=\"1\" class=\"dataframe\">\n",
       "  <thead>\n",
       "    <tr style=\"text-align: right;\">\n",
       "      <th></th>\n",
       "      <th>index</th>\n",
       "      <th>Lever position</th>\n",
       "      <th>Ship speed (v)</th>\n",
       "      <th>Gas Turbine (GT) shaft torque (GTT) [kN m]</th>\n",
       "      <th>GT rate of revolutions (GTn) [rpm]</th>\n",
       "      <th>Gas Generator rate of revolutions (GGn) [rpm]</th>\n",
       "      <th>Starboard Propeller Torque (Ts) [kN]</th>\n",
       "      <th>Port Propeller Torque (Tp) [kN]</th>\n",
       "      <th>Hight Pressure (HP) Turbine exit temperature (T48) [C]</th>\n",
       "      <th>GT Compressor inlet air temperature (T1) [C]</th>\n",
       "      <th>GT Compressor outlet air temperature (T2) [C]</th>\n",
       "      <th>HP Turbine exit pressure (P48) [bar]</th>\n",
       "      <th>GT Compressor inlet air pressure (P1) [bar]</th>\n",
       "      <th>GT Compressor outlet air pressure (P2) [bar]</th>\n",
       "      <th>GT exhaust gas pressure (Pexh) [bar]</th>\n",
       "      <th>Turbine Injecton Control (TIC) [%]</th>\n",
       "      <th>Fuel flow (mf) [kg/s]</th>\n",
       "      <th>GT Compressor decay state coefficient</th>\n",
       "      <th>GT Turbine decay state coefficient</th>\n",
       "    </tr>\n",
       "  </thead>\n",
       "  <tbody>\n",
       "    <tr>\n",
       "      <th>0</th>\n",
       "      <td>0</td>\n",
       "      <td>1.138</td>\n",
       "      <td>3</td>\n",
       "      <td>289.964</td>\n",
       "      <td>1349.489</td>\n",
       "      <td>6677.380</td>\n",
       "      <td>7.584</td>\n",
       "      <td>7.584</td>\n",
       "      <td>464.006</td>\n",
       "      <td>288</td>\n",
       "      <td>550.563</td>\n",
       "      <td>1.096</td>\n",
       "      <td>0.998</td>\n",
       "      <td>5.947</td>\n",
       "      <td>1.019</td>\n",
       "      <td>7.137</td>\n",
       "      <td>0.082</td>\n",
       "      <td>0.95</td>\n",
       "      <td>0.975</td>\n",
       "    </tr>\n",
       "    <tr>\n",
       "      <th>1</th>\n",
       "      <td>1</td>\n",
       "      <td>2.088</td>\n",
       "      <td>6</td>\n",
       "      <td>6960.180</td>\n",
       "      <td>1376.166</td>\n",
       "      <td>6828.469</td>\n",
       "      <td>28.204</td>\n",
       "      <td>28.204</td>\n",
       "      <td>635.401</td>\n",
       "      <td>288</td>\n",
       "      <td>581.658</td>\n",
       "      <td>1.331</td>\n",
       "      <td>0.998</td>\n",
       "      <td>7.282</td>\n",
       "      <td>1.019</td>\n",
       "      <td>10.655</td>\n",
       "      <td>0.287</td>\n",
       "      <td>0.95</td>\n",
       "      <td>0.975</td>\n",
       "    </tr>\n",
       "    <tr>\n",
       "      <th>2</th>\n",
       "      <td>2</td>\n",
       "      <td>3.144</td>\n",
       "      <td>9</td>\n",
       "      <td>8379.229</td>\n",
       "      <td>1386.757</td>\n",
       "      <td>7111.811</td>\n",
       "      <td>60.358</td>\n",
       "      <td>60.358</td>\n",
       "      <td>606.002</td>\n",
       "      <td>288</td>\n",
       "      <td>587.587</td>\n",
       "      <td>1.389</td>\n",
       "      <td>0.998</td>\n",
       "      <td>7.574</td>\n",
       "      <td>1.020</td>\n",
       "      <td>13.086</td>\n",
       "      <td>0.259</td>\n",
       "      <td>0.95</td>\n",
       "      <td>0.975</td>\n",
       "    </tr>\n",
       "    <tr>\n",
       "      <th>3</th>\n",
       "      <td>3</td>\n",
       "      <td>4.161</td>\n",
       "      <td>12</td>\n",
       "      <td>14724.395</td>\n",
       "      <td>1547.465</td>\n",
       "      <td>7792.630</td>\n",
       "      <td>113.774</td>\n",
       "      <td>113.774</td>\n",
       "      <td>661.471</td>\n",
       "      <td>288</td>\n",
       "      <td>613.851</td>\n",
       "      <td>1.658</td>\n",
       "      <td>0.998</td>\n",
       "      <td>9.007</td>\n",
       "      <td>1.022</td>\n",
       "      <td>18.109</td>\n",
       "      <td>0.358</td>\n",
       "      <td>0.95</td>\n",
       "      <td>0.975</td>\n",
       "    </tr>\n",
       "    <tr>\n",
       "      <th>4</th>\n",
       "      <td>4</td>\n",
       "      <td>5.140</td>\n",
       "      <td>15</td>\n",
       "      <td>21636.432</td>\n",
       "      <td>1924.313</td>\n",
       "      <td>8494.777</td>\n",
       "      <td>175.306</td>\n",
       "      <td>175.306</td>\n",
       "      <td>731.494</td>\n",
       "      <td>288</td>\n",
       "      <td>645.642</td>\n",
       "      <td>2.078</td>\n",
       "      <td>0.998</td>\n",
       "      <td>11.197</td>\n",
       "      <td>1.026</td>\n",
       "      <td>26.373</td>\n",
       "      <td>0.522</td>\n",
       "      <td>0.95</td>\n",
       "      <td>0.975</td>\n",
       "    </tr>\n",
       "  </tbody>\n",
       "</table>\n",
       "</div>"
      ],
      "text/plain": [
       "   index  Lever position   Ship speed (v)   \\\n",
       "0      0            1.138                3   \n",
       "1      1            2.088                6   \n",
       "2      2            3.144                9   \n",
       "3      3            4.161               12   \n",
       "4      4            5.140               15   \n",
       "\n",
       "   Gas Turbine (GT) shaft torque (GTT) [kN m]    \\\n",
       "0                                       289.964   \n",
       "1                                      6960.180   \n",
       "2                                      8379.229   \n",
       "3                                     14724.395   \n",
       "4                                     21636.432   \n",
       "\n",
       "   GT rate of revolutions (GTn) [rpm]    \\\n",
       "0                              1349.489   \n",
       "1                              1376.166   \n",
       "2                              1386.757   \n",
       "3                              1547.465   \n",
       "4                              1924.313   \n",
       "\n",
       "   Gas Generator rate of revolutions (GGn) [rpm]    \\\n",
       "0                                         6677.380   \n",
       "1                                         6828.469   \n",
       "2                                         7111.811   \n",
       "3                                         7792.630   \n",
       "4                                         8494.777   \n",
       "\n",
       "   Starboard Propeller Torque (Ts) [kN]    Port Propeller Torque (Tp) [kN]    \\\n",
       "0                                   7.584                              7.584   \n",
       "1                                  28.204                             28.204   \n",
       "2                                  60.358                             60.358   \n",
       "3                                 113.774                            113.774   \n",
       "4                                 175.306                            175.306   \n",
       "\n",
       "   Hight Pressure (HP) Turbine exit temperature (T48) [C]    \\\n",
       "0                                            464.006          \n",
       "1                                            635.401          \n",
       "2                                            606.002          \n",
       "3                                            661.471          \n",
       "4                                            731.494          \n",
       "\n",
       "   GT Compressor inlet air temperature (T1) [C]    \\\n",
       "0                                             288   \n",
       "1                                             288   \n",
       "2                                             288   \n",
       "3                                             288   \n",
       "4                                             288   \n",
       "\n",
       "   GT Compressor outlet air temperature (T2) [C]    \\\n",
       "0                                          550.563   \n",
       "1                                          581.658   \n",
       "2                                          587.587   \n",
       "3                                          613.851   \n",
       "4                                          645.642   \n",
       "\n",
       "   HP Turbine exit pressure (P48) [bar]    \\\n",
       "0                                   1.096   \n",
       "1                                   1.331   \n",
       "2                                   1.389   \n",
       "3                                   1.658   \n",
       "4                                   2.078   \n",
       "\n",
       "   GT Compressor inlet air pressure (P1) [bar]    \\\n",
       "0                                          0.998   \n",
       "1                                          0.998   \n",
       "2                                          0.998   \n",
       "3                                          0.998   \n",
       "4                                          0.998   \n",
       "\n",
       "   GT Compressor outlet air pressure (P2) [bar]    \\\n",
       "0                                           5.947   \n",
       "1                                           7.282   \n",
       "2                                           7.574   \n",
       "3                                           9.007   \n",
       "4                                          11.197   \n",
       "\n",
       "   GT exhaust gas pressure (Pexh) [bar]    \\\n",
       "0                                   1.019   \n",
       "1                                   1.019   \n",
       "2                                   1.020   \n",
       "3                                   1.022   \n",
       "4                                   1.026   \n",
       "\n",
       "   Turbine Injecton Control (TIC) [%]    Fuel flow (mf) [kg/s]    \\\n",
       "0                                 7.137                    0.082   \n",
       "1                                10.655                    0.287   \n",
       "2                                13.086                    0.259   \n",
       "3                                18.109                    0.358   \n",
       "4                                26.373                    0.522   \n",
       "\n",
       "   GT Compressor decay state coefficient    \\\n",
       "0                                     0.95   \n",
       "1                                     0.95   \n",
       "2                                     0.95   \n",
       "3                                     0.95   \n",
       "4                                     0.95   \n",
       "\n",
       "   GT Turbine decay state coefficient   \n",
       "0                                0.975  \n",
       "1                                0.975  \n",
       "2                                0.975  \n",
       "3                                0.975  \n",
       "4                                0.975  "
      ]
     },
     "execution_count": 33,
     "metadata": {},
     "output_type": "execute_result"
    }
   ],
   "source": [
    "# Checking out the head of the dataframe\n",
    "ns.head()"
   ]
  },
  {
   "cell_type": "code",
   "execution_count": 35,
   "id": "bc88e984",
   "metadata": {},
   "outputs": [
    {
     "name": "stdout",
     "output_type": "stream",
     "text": [
      "Index(['index', 'Lever position ', 'Ship speed (v) ',\n",
      "       'Gas Turbine (GT) shaft torque (GTT) [kN m]  ',\n",
      "       'GT rate of revolutions (GTn) [rpm]  ',\n",
      "       'Gas Generator rate of revolutions (GGn) [rpm]  ',\n",
      "       'Starboard Propeller Torque (Ts) [kN]  ',\n",
      "       'Port Propeller Torque (Tp) [kN]  ',\n",
      "       'Hight Pressure (HP) Turbine exit temperature (T48) [C]  ',\n",
      "       'GT Compressor inlet air temperature (T1) [C]  ',\n",
      "       'GT Compressor outlet air temperature (T2) [C]  ',\n",
      "       'HP Turbine exit pressure (P48) [bar]  ',\n",
      "       'GT Compressor inlet air pressure (P1) [bar]  ',\n",
      "       'GT Compressor outlet air pressure (P2) [bar]  ',\n",
      "       'GT exhaust gas pressure (Pexh) [bar]  ',\n",
      "       'Turbine Injecton Control (TIC) [%]  ', 'Fuel flow (mf) [kg/s]  ',\n",
      "       'GT Compressor decay state coefficient  ',\n",
      "       'GT Turbine decay state coefficient '],\n",
      "      dtype='object')\n"
     ]
    }
   ],
   "source": [
    "print(ns.columns)\n"
   ]
  },
  {
   "cell_type": "code",
   "execution_count": 45,
   "id": "fa432b2e",
   "metadata": {},
   "outputs": [],
   "source": [
    "ns.columns = ns.columns.str.replace(' ', '') "
   ]
  },
  {
   "cell_type": "code",
   "execution_count": 53,
   "id": "14dab4d5",
   "metadata": {},
   "outputs": [
    {
     "name": "stdout",
     "output_type": "stream",
     "text": [
      "       index  Leverposition  Shipspeed(v)  \\\n",
      "0          0          1.138             3   \n",
      "1          1          2.088             6   \n",
      "2          2          3.144             9   \n",
      "3          3          4.161            12   \n",
      "4          4          5.140            15   \n",
      "...      ...            ...           ...   \n",
      "11929  11929          5.140            15   \n",
      "11930  11930          6.175            18   \n",
      "11931  11931          7.148            21   \n",
      "11932  11932          8.206            24   \n",
      "11933  11933          9.300            27   \n",
      "\n",
      "       GasTurbine(GT)shafttorque(GTT)[kNm]  GTrateofrevolutions(GTn)[rpm]  \\\n",
      "0                                  289.964                       1349.489   \n",
      "1                                 6960.180                       1376.166   \n",
      "2                                 8379.229                       1386.757   \n",
      "3                                14724.395                       1547.465   \n",
      "4                                21636.432                       1924.313   \n",
      "...                                    ...                            ...   \n",
      "11929                            21624.934                       1924.342   \n",
      "11930                            29763.213                       2306.745   \n",
      "11931                            39003.867                       2678.052   \n",
      "11932                            50992.579                       3087.434   \n",
      "11933                            72775.130                       3560.400   \n",
      "\n",
      "       GasGeneratorrateofrevolutions(GGn)[rpm]  \\\n",
      "0                                     6677.380   \n",
      "1                                     6828.469   \n",
      "2                                     7111.811   \n",
      "3                                     7792.630   \n",
      "4                                     8494.777   \n",
      "...                                        ...   \n",
      "11929                                 8470.013   \n",
      "11930                                 8800.352   \n",
      "11931                                 9120.889   \n",
      "11932                                 9300.274   \n",
      "11933                                 9742.950   \n",
      "\n",
      "       StarboardPropellerTorque(Ts)[kN]  PortPropellerTorque(Tp)[kN]  \\\n",
      "0                                 7.584                        7.584   \n",
      "1                                28.204                       28.204   \n",
      "2                                60.358                       60.358   \n",
      "3                               113.774                      113.774   \n",
      "4                               175.306                      175.306   \n",
      "...                                 ...                          ...   \n",
      "11929                           175.239                      175.239   \n",
      "11930                           245.954                      245.954   \n",
      "11931                           332.389                      332.389   \n",
      "11932                           438.024                      438.024   \n",
      "11933                           644.880                      644.880   \n",
      "\n",
      "       HightPressure(HP)Turbineexittemperature(T48)[C]  \\\n",
      "0                                              464.006   \n",
      "1                                              635.401   \n",
      "2                                              606.002   \n",
      "3                                              661.471   \n",
      "4                                              731.494   \n",
      "...                                                ...   \n",
      "11929                                          681.658   \n",
      "11930                                          747.405   \n",
      "11931                                          796.457   \n",
      "11932                                          892.945   \n",
      "11933                                         1038.411   \n",
      "\n",
      "       GTCompressorinletairtemperature(T1)[C]  \\\n",
      "0                                         288   \n",
      "1                                         288   \n",
      "2                                         288   \n",
      "3                                         288   \n",
      "4                                         288   \n",
      "...                                       ...   \n",
      "11929                                     288   \n",
      "11930                                     288   \n",
      "11931                                     288   \n",
      "11932                                     288   \n",
      "11933                                     288   \n",
      "\n",
      "       GTCompressoroutletairtemperature(T2)[C]  \\\n",
      "0                                      550.563   \n",
      "1                                      581.658   \n",
      "2                                      587.587   \n",
      "3                                      613.851   \n",
      "4                                      645.642   \n",
      "...                                        ...   \n",
      "11929                                  628.950   \n",
      "11930                                  658.853   \n",
      "11931                                  680.393   \n",
      "11932                                  722.029   \n",
      "11933                                  767.595   \n",
      "\n",
      "       HPTurbineexitpressure(P48)[bar]  GTCompressorinletairpressure(P1)[bar]  \\\n",
      "0                                1.096                                  0.998   \n",
      "1                                1.331                                  0.998   \n",
      "2                                1.389                                  0.998   \n",
      "3                                1.658                                  0.998   \n",
      "4                                2.078                                  0.998   \n",
      "...                                ...                                    ...   \n",
      "11929                            2.087                                  0.998   \n",
      "11930                            2.512                                  0.998   \n",
      "11931                            2.982                                  0.998   \n",
      "11932                            3.594                                  0.998   \n",
      "11933                            4.531                                  0.998   \n",
      "\n",
      "       GTCompressoroutletairpressure(P2)[bar]  \\\n",
      "0                                       5.947   \n",
      "1                                       7.282   \n",
      "2                                       7.574   \n",
      "3                                       9.007   \n",
      "4                                      11.197   \n",
      "...                                       ...   \n",
      "11929                                  10.990   \n",
      "11930                                  13.109   \n",
      "11931                                  15.420   \n",
      "11932                                  18.293   \n",
      "11933                                  22.464   \n",
      "\n",
      "       GTexhaustgaspressure(Pexh)[bar]  TurbineInjectonControl(TIC)[%]  \\\n",
      "0                                1.019                           7.137   \n",
      "1                                1.019                          10.655   \n",
      "2                                1.020                          13.086   \n",
      "3                                1.022                          18.109   \n",
      "4                                1.026                          26.373   \n",
      "...                                ...                             ...   \n",
      "11929                            1.027                          23.803   \n",
      "11930                            1.031                          32.671   \n",
      "11931                            1.036                          42.104   \n",
      "11932                            1.043                          58.064   \n",
      "11933                            1.052                          86.067   \n",
      "\n",
      "       Fuelflow(mf)[kg/s]  GTCompressordecaystatecoefficient  \\\n",
      "0                   0.082                               0.95   \n",
      "1                   0.287                               0.95   \n",
      "2                   0.259                               0.95   \n",
      "3                   0.358                               0.95   \n",
      "4                   0.522                               0.95   \n",
      "...                   ...                                ...   \n",
      "11929               0.471                               1.00   \n",
      "11930               0.647                               1.00   \n",
      "11931               0.834                               1.00   \n",
      "11932               1.149                               1.00   \n",
      "11933               1.704                               1.00   \n",
      "\n",
      "       GTTurbinedecaystatecoefficient  \n",
      "0                               0.975  \n",
      "1                               0.975  \n",
      "2                               0.975  \n",
      "3                               0.975  \n",
      "4                               0.975  \n",
      "...                               ...  \n",
      "11929                           1.000  \n",
      "11930                           1.000  \n",
      "11931                           1.000  \n",
      "11932                           1.000  \n",
      "11933                           1.000  \n",
      "\n",
      "[11934 rows x 19 columns]\n"
     ]
    }
   ],
   "source": [
    "ns.rename(columns=lambda x: x.strip(), inplace=True)\n"
   ]
  },
  {
   "cell_type": "code",
   "execution_count": 54,
   "id": "381bee64",
   "metadata": {},
   "outputs": [
    {
     "name": "stdout",
     "output_type": "stream",
     "text": [
      "Index(['index', 'Leverposition', 'Shipspeed(v)',\n",
      "       'GasTurbine(GT)shafttorque(GTT)[kNm]', 'GTrateofrevolutions(GTn)[rpm]',\n",
      "       'GasGeneratorrateofrevolutions(GGn)[rpm]',\n",
      "       'StarboardPropellerTorque(Ts)[kN]', 'PortPropellerTorque(Tp)[kN]',\n",
      "       'HightPressure(HP)Turbineexittemperature(T48)[C]',\n",
      "       'GTCompressorinletairtemperature(T1)[C]',\n",
      "       'GTCompressoroutletairtemperature(T2)[C]',\n",
      "       'HPTurbineexitpressure(P48)[bar]',\n",
      "       'GTCompressorinletairpressure(P1)[bar]',\n",
      "       'GTCompressoroutletairpressure(P2)[bar]',\n",
      "       'GTexhaustgaspressure(Pexh)[bar]', 'TurbineInjectonControl(TIC)[%]',\n",
      "       'Fuelflow(mf)[kg/s]', 'GTCompressordecaystatecoefficient',\n",
      "       'GTTurbinedecaystatecoefficient'],\n",
      "      dtype='object')\n"
     ]
    }
   ],
   "source": [
    "print(ns.columns)\n"
   ]
  },
  {
   "cell_type": "code",
   "execution_count": 56,
   "id": "ece6a965",
   "metadata": {
    "execution": {
     "iopub.execute_input": "2023-01-05T11:29:14.401661Z",
     "iopub.status.busy": "2023-01-05T11:29:14.401022Z",
     "iopub.status.idle": "2023-01-05T11:29:14.421476Z",
     "shell.execute_reply": "2023-01-05T11:29:14.420241Z"
    },
    "papermill": {
     "duration": 0.040726,
     "end_time": "2023-01-05T11:29:14.424149",
     "exception": false,
     "start_time": "2023-01-05T11:29:14.383423",
     "status": "completed"
    },
    "tags": []
   },
   "outputs": [],
   "source": [
    "# Using .drop() function of pandas to drop out the two columns as we did earlier in the dataframe 'df'\n",
    "ns = ns.drop([\"GTCompressorinletairpressure(P1)[bar]\"], axis = 1)\n"
   ]
  },
  {
   "cell_type": "code",
   "execution_count": 57,
   "id": "6beb3f2d",
   "metadata": {},
   "outputs": [
    {
     "data": {
      "text/plain": [
       "Index(['index', 'Leverposition', 'Shipspeed(v)',\n",
       "       'GasTurbine(GT)shafttorque(GTT)[kNm]', 'GTrateofrevolutions(GTn)[rpm]',\n",
       "       'GasGeneratorrateofrevolutions(GGn)[rpm]',\n",
       "       'StarboardPropellerTorque(Ts)[kN]', 'PortPropellerTorque(Tp)[kN]',\n",
       "       'HightPressure(HP)Turbineexittemperature(T48)[C]',\n",
       "       'GTCompressoroutletairtemperature(T2)[C]',\n",
       "       'HPTurbineexitpressure(P48)[bar]',\n",
       "       'GTCompressoroutletairpressure(P2)[bar]',\n",
       "       'GTexhaustgaspressure(Pexh)[bar]', 'TurbineInjectonControl(TIC)[%]',\n",
       "       'Fuelflow(mf)[kg/s]', 'GTCompressordecaystatecoefficient',\n",
       "       'GTTurbinedecaystatecoefficient'],\n",
       "      dtype='object')"
      ]
     },
     "execution_count": 57,
     "metadata": {},
     "output_type": "execute_result"
    }
   ],
   "source": [
    "ns.columns"
   ]
  },
  {
   "cell_type": "markdown",
   "id": "7b6b0c29",
   "metadata": {
    "papermill": {
     "duration": 0.015956,
     "end_time": "2023-01-05T11:29:14.456422",
     "exception": false,
     "start_time": "2023-01-05T11:29:14.440466",
     "status": "completed"
    },
    "tags": []
   },
   "source": [
    "## Train Test Split\n",
    "Whenever we are buliding the model, we will perform **a train-test split** on the dataset. The **train data** will be used for **building the model** and the **test data** will be used to **evaluate the fit** or **accuracy** of the model."
   ]
  },
  {
   "cell_type": "markdown",
   "id": "2d1c1178",
   "metadata": {
    "papermill": {
     "duration": 0.016344,
     "end_time": "2023-01-05T11:29:14.489252",
     "exception": false,
     "start_time": "2023-01-05T11:29:14.472908",
     "status": "completed"
    },
    "tags": []
   },
   "source": [
    "![train-test-evaluation](https://miro.medium.com/max/1400/1*Hs7RCpyvj4NrjANdwiFHaQ@2x.jpeg)"
   ]
  },
  {
   "cell_type": "markdown",
   "id": "88b2ca74",
   "metadata": {
    "papermill": {
     "duration": 0.016192,
     "end_time": "2023-01-05T11:29:14.521929",
     "exception": false,
     "start_time": "2023-01-05T11:29:14.505737",
     "status": "completed"
    },
    "tags": []
   },
   "source": [
    "Therefore out of **11934** values in our **dataset** we take **20%** of it to the **testing set** and remaining to the **training the model**"
   ]
  },
  {
   "cell_type": "markdown",
   "id": "01b8c963",
   "metadata": {
    "papermill": {
     "duration": 0.016233,
     "end_time": "2023-01-05T11:29:14.554596",
     "exception": false,
     "start_time": "2023-01-05T11:29:14.538363",
     "status": "completed"
    },
    "tags": []
   },
   "source": [
    "## Model 1 : Predicting GT Compressor decay state coefficient based on 14 features.\n",
    "\n",
    "- Here we will be building multiple linear regression model to predict GT Compressor decay state coefficient based on all 14 features from lever position to fuel flow"
   ]
  },
  {
   "cell_type": "code",
   "execution_count": 58,
   "id": "7e6b0a2c",
   "metadata": {
    "execution": {
     "iopub.execute_input": "2023-01-05T11:29:14.589409Z",
     "iopub.status.busy": "2023-01-05T11:29:14.588787Z",
     "iopub.status.idle": "2023-01-05T11:29:14.594517Z",
     "shell.execute_reply": "2023-01-05T11:29:14.593428Z"
    },
    "papermill": {
     "duration": 0.025518,
     "end_time": "2023-01-05T11:29:14.596546",
     "exception": false,
     "start_time": "2023-01-05T11:29:14.571028",
     "status": "completed"
    },
    "tags": []
   },
   "outputs": [],
   "source": [
    "# Defining features and labels\n",
    "X = ns.drop(['GTCompressordecaystatecoefficient','GTTurbinedecaystatecoefficient','index'],axis=1)\n",
    "\n",
    "y = ns['GTCompressordecaystatecoefficient']"
   ]
  },
  {
   "cell_type": "code",
   "execution_count": 59,
   "id": "60b4150e",
   "metadata": {
    "execution": {
     "iopub.execute_input": "2023-01-05T11:29:14.630818Z",
     "iopub.status.busy": "2023-01-05T11:29:14.630186Z",
     "iopub.status.idle": "2023-01-05T11:29:14.843626Z",
     "shell.execute_reply": "2023-01-05T11:29:14.842038Z"
    },
    "papermill": {
     "duration": 0.233724,
     "end_time": "2023-01-05T11:29:14.846401",
     "exception": false,
     "start_time": "2023-01-05T11:29:14.612677",
     "status": "completed"
    },
    "tags": []
   },
   "outputs": [],
   "source": [
    "# Importing train test split from scikit learn library\n",
    "from sklearn.model_selection import train_test_split"
   ]
  },
  {
   "cell_type": "code",
   "execution_count": 60,
   "id": "6b8e318e",
   "metadata": {
    "execution": {
     "iopub.execute_input": "2023-01-05T11:29:14.882394Z",
     "iopub.status.busy": "2023-01-05T11:29:14.881960Z",
     "iopub.status.idle": "2023-01-05T11:29:14.890290Z",
     "shell.execute_reply": "2023-01-05T11:29:14.889591Z"
    },
    "papermill": {
     "duration": 0.029402,
     "end_time": "2023-01-05T11:29:14.892263",
     "exception": false,
     "start_time": "2023-01-05T11:29:14.862861",
     "status": "completed"
    },
    "tags": []
   },
   "outputs": [],
   "source": [
    "# Splitting the dataset using the train_test_split\n",
    "X_train, X_test, y_train, y_test = train_test_split(X, y, test_size = 0.2, random_state = 101)"
   ]
  },
  {
   "cell_type": "code",
   "execution_count": 61,
   "id": "d816ca8c",
   "metadata": {
    "execution": {
     "iopub.execute_input": "2023-01-05T11:29:14.927213Z",
     "iopub.status.busy": "2023-01-05T11:29:14.926623Z",
     "iopub.status.idle": "2023-01-05T11:29:15.006778Z",
     "shell.execute_reply": "2023-01-05T11:29:15.005501Z"
    },
    "papermill": {
     "duration": 0.100597,
     "end_time": "2023-01-05T11:29:15.009339",
     "exception": false,
     "start_time": "2023-01-05T11:29:14.908742",
     "status": "completed"
    },
    "tags": []
   },
   "outputs": [],
   "source": [
    "# Importing LinearRegression model from scikit learn library\n",
    "from sklearn.linear_model import LinearRegression"
   ]
  },
  {
   "cell_type": "code",
   "execution_count": 62,
   "id": "9abba8f4",
   "metadata": {
    "execution": {
     "iopub.execute_input": "2023-01-05T11:29:15.043428Z",
     "iopub.status.busy": "2023-01-05T11:29:15.043052Z",
     "iopub.status.idle": "2023-01-05T11:29:15.048399Z",
     "shell.execute_reply": "2023-01-05T11:29:15.046656Z"
    },
    "papermill": {
     "duration": 0.025646,
     "end_time": "2023-01-05T11:29:15.051177",
     "exception": false,
     "start_time": "2023-01-05T11:29:15.025531",
     "status": "completed"
    },
    "tags": []
   },
   "outputs": [],
   "source": [
    "# Creating an instance of a LinearRegression() model named lm\n",
    "lm = LinearRegression()"
   ]
  },
  {
   "cell_type": "code",
   "execution_count": 63,
   "id": "619a0a65",
   "metadata": {
    "execution": {
     "iopub.execute_input": "2023-01-05T11:29:15.085979Z",
     "iopub.status.busy": "2023-01-05T11:29:15.085297Z",
     "iopub.status.idle": "2023-01-05T11:29:15.116020Z",
     "shell.execute_reply": "2023-01-05T11:29:15.114747Z"
    },
    "papermill": {
     "duration": 0.050253,
     "end_time": "2023-01-05T11:29:15.118204",
     "exception": false,
     "start_time": "2023-01-05T11:29:15.067951",
     "status": "completed"
    },
    "tags": []
   },
   "outputs": [
    {
     "data": {
      "text/html": [
       "<style>#sk-container-id-1 {color: black;}#sk-container-id-1 pre{padding: 0;}#sk-container-id-1 div.sk-toggleable {background-color: white;}#sk-container-id-1 label.sk-toggleable__label {cursor: pointer;display: block;width: 100%;margin-bottom: 0;padding: 0.3em;box-sizing: border-box;text-align: center;}#sk-container-id-1 label.sk-toggleable__label-arrow:before {content: \"▸\";float: left;margin-right: 0.25em;color: #696969;}#sk-container-id-1 label.sk-toggleable__label-arrow:hover:before {color: black;}#sk-container-id-1 div.sk-estimator:hover label.sk-toggleable__label-arrow:before {color: black;}#sk-container-id-1 div.sk-toggleable__content {max-height: 0;max-width: 0;overflow: hidden;text-align: left;background-color: #f0f8ff;}#sk-container-id-1 div.sk-toggleable__content pre {margin: 0.2em;color: black;border-radius: 0.25em;background-color: #f0f8ff;}#sk-container-id-1 input.sk-toggleable__control:checked~div.sk-toggleable__content {max-height: 200px;max-width: 100%;overflow: auto;}#sk-container-id-1 input.sk-toggleable__control:checked~label.sk-toggleable__label-arrow:before {content: \"▾\";}#sk-container-id-1 div.sk-estimator input.sk-toggleable__control:checked~label.sk-toggleable__label {background-color: #d4ebff;}#sk-container-id-1 div.sk-label input.sk-toggleable__control:checked~label.sk-toggleable__label {background-color: #d4ebff;}#sk-container-id-1 input.sk-hidden--visually {border: 0;clip: rect(1px 1px 1px 1px);clip: rect(1px, 1px, 1px, 1px);height: 1px;margin: -1px;overflow: hidden;padding: 0;position: absolute;width: 1px;}#sk-container-id-1 div.sk-estimator {font-family: monospace;background-color: #f0f8ff;border: 1px dotted black;border-radius: 0.25em;box-sizing: border-box;margin-bottom: 0.5em;}#sk-container-id-1 div.sk-estimator:hover {background-color: #d4ebff;}#sk-container-id-1 div.sk-parallel-item::after {content: \"\";width: 100%;border-bottom: 1px solid gray;flex-grow: 1;}#sk-container-id-1 div.sk-label:hover label.sk-toggleable__label {background-color: #d4ebff;}#sk-container-id-1 div.sk-serial::before {content: \"\";position: absolute;border-left: 1px solid gray;box-sizing: border-box;top: 0;bottom: 0;left: 50%;z-index: 0;}#sk-container-id-1 div.sk-serial {display: flex;flex-direction: column;align-items: center;background-color: white;padding-right: 0.2em;padding-left: 0.2em;position: relative;}#sk-container-id-1 div.sk-item {position: relative;z-index: 1;}#sk-container-id-1 div.sk-parallel {display: flex;align-items: stretch;justify-content: center;background-color: white;position: relative;}#sk-container-id-1 div.sk-item::before, #sk-container-id-1 div.sk-parallel-item::before {content: \"\";position: absolute;border-left: 1px solid gray;box-sizing: border-box;top: 0;bottom: 0;left: 50%;z-index: -1;}#sk-container-id-1 div.sk-parallel-item {display: flex;flex-direction: column;z-index: 1;position: relative;background-color: white;}#sk-container-id-1 div.sk-parallel-item:first-child::after {align-self: flex-end;width: 50%;}#sk-container-id-1 div.sk-parallel-item:last-child::after {align-self: flex-start;width: 50%;}#sk-container-id-1 div.sk-parallel-item:only-child::after {width: 0;}#sk-container-id-1 div.sk-dashed-wrapped {border: 1px dashed gray;margin: 0 0.4em 0.5em 0.4em;box-sizing: border-box;padding-bottom: 0.4em;background-color: white;}#sk-container-id-1 div.sk-label label {font-family: monospace;font-weight: bold;display: inline-block;line-height: 1.2em;}#sk-container-id-1 div.sk-label-container {text-align: center;}#sk-container-id-1 div.sk-container {/* jupyter's `normalize.less` sets `[hidden] { display: none; }` but bootstrap.min.css set `[hidden] { display: none !important; }` so we also need the `!important` here to be able to override the default hidden behavior on the sphinx rendered scikit-learn.org. See: https://github.com/scikit-learn/scikit-learn/issues/21755 */display: inline-block !important;position: relative;}#sk-container-id-1 div.sk-text-repr-fallback {display: none;}</style><div id=\"sk-container-id-1\" class=\"sk-top-container\"><div class=\"sk-text-repr-fallback\"><pre>LinearRegression()</pre><b>In a Jupyter environment, please rerun this cell to show the HTML representation or trust the notebook. <br />On GitHub, the HTML representation is unable to render, please try loading this page with nbviewer.org.</b></div><div class=\"sk-container\" hidden><div class=\"sk-item\"><div class=\"sk-estimator sk-toggleable\"><input class=\"sk-toggleable__control sk-hidden--visually\" id=\"sk-estimator-id-1\" type=\"checkbox\" checked><label for=\"sk-estimator-id-1\" class=\"sk-toggleable__label sk-toggleable__label-arrow\">LinearRegression</label><div class=\"sk-toggleable__content\"><pre>LinearRegression()</pre></div></div></div></div></div>"
      ],
      "text/plain": [
       "LinearRegression()"
      ]
     },
     "execution_count": 63,
     "metadata": {},
     "output_type": "execute_result"
    }
   ],
   "source": [
    "# Fitting the lm model with training set\n",
    "lm.fit(X_train,y_train)"
   ]
  },
  {
   "cell_type": "code",
   "execution_count": 88,
   "id": "165a8e0a",
   "metadata": {
    "execution": {
     "iopub.execute_input": "2023-01-05T11:29:15.164209Z",
     "iopub.status.busy": "2023-01-05T11:29:15.163799Z",
     "iopub.status.idle": "2023-01-05T11:29:15.172969Z",
     "shell.execute_reply": "2023-01-05T11:29:15.172244Z"
    },
    "papermill": {
     "duration": 0.036754,
     "end_time": "2023-01-05T11:29:15.176587",
     "exception": false,
     "start_time": "2023-01-05T11:29:15.139833",
     "status": "completed"
    },
    "tags": []
   },
   "outputs": [],
   "source": [
    "# Predicting the y values by using the .predict() function\n",
    "pred = lm.predict(X_test)"
   ]
  },
  {
   "cell_type": "code",
   "execution_count": 90,
   "id": "57c3b400",
   "metadata": {},
   "outputs": [
    {
     "data": {
      "text/plain": [
       "array([0.97115105, 0.99006955, 0.95386963, ..., 0.98507246, 0.9742216 ,\n",
       "       0.98609121])"
      ]
     },
     "execution_count": 90,
     "metadata": {},
     "output_type": "execute_result"
    }
   ],
   "source": [
    "pred"
   ]
  },
  {
   "cell_type": "code",
   "execution_count": 91,
   "id": "fd8ad020",
   "metadata": {},
   "outputs": [
    {
     "data": {
      "text/plain": [
       "2387"
      ]
     },
     "execution_count": 91,
     "metadata": {},
     "output_type": "execute_result"
    }
   ],
   "source": [
    "len(pred)"
   ]
  },
  {
   "cell_type": "code",
   "execution_count": 65,
   "id": "bf97804e",
   "metadata": {
    "execution": {
     "iopub.execute_input": "2023-01-05T11:29:15.252211Z",
     "iopub.status.busy": "2023-01-05T11:29:15.251835Z",
     "iopub.status.idle": "2023-01-05T11:29:15.257265Z",
     "shell.execute_reply": "2023-01-05T11:29:15.256350Z"
    },
    "papermill": {
     "duration": 0.031614,
     "end_time": "2023-01-05T11:29:15.259989",
     "exception": false,
     "start_time": "2023-01-05T11:29:15.228375",
     "status": "completed"
    },
    "tags": []
   },
   "outputs": [
    {
     "name": "stdout",
     "output_type": "stream",
     "text": [
      "Coeffiecients: \n",
      " [ 2.60014335e-01 -7.62369632e-02 -3.19526121e-07 -2.92740638e-05\n",
      "  3.13801818e-05 -5.61710613e-04 -5.61710612e-04 -5.05978578e-06\n",
      " -3.39085210e-03  1.84406031e-01  1.41633312e-02  7.84900768e-01\n",
      " -7.25691673e-04  2.22244383e-01]\n"
     ]
    }
   ],
   "source": [
    "# Printing out the coefficients of the model\n",
    "print('Coeffiecients: \\n',lm.coef_)"
   ]
  },
  {
   "cell_type": "code",
   "execution_count": 66,
   "id": "9b4b280b",
   "metadata": {
    "execution": {
     "iopub.execute_input": "2023-01-05T11:29:15.300903Z",
     "iopub.status.busy": "2023-01-05T11:29:15.300569Z",
     "iopub.status.idle": "2023-01-05T11:29:15.312327Z",
     "shell.execute_reply": "2023-01-05T11:29:15.311180Z"
    },
    "papermill": {
     "duration": 0.03265,
     "end_time": "2023-01-05T11:29:15.314379",
     "exception": false,
     "start_time": "2023-01-05T11:29:15.281729",
     "status": "completed"
    },
    "tags": []
   },
   "outputs": [
    {
     "data": {
      "text/html": [
       "<div>\n",
       "<style scoped>\n",
       "    .dataframe tbody tr th:only-of-type {\n",
       "        vertical-align: middle;\n",
       "    }\n",
       "\n",
       "    .dataframe tbody tr th {\n",
       "        vertical-align: top;\n",
       "    }\n",
       "\n",
       "    .dataframe thead th {\n",
       "        text-align: right;\n",
       "    }\n",
       "</style>\n",
       "<table border=\"1\" class=\"dataframe\">\n",
       "  <thead>\n",
       "    <tr style=\"text-align: right;\">\n",
       "      <th></th>\n",
       "      <th>Coeffecient</th>\n",
       "    </tr>\n",
       "  </thead>\n",
       "  <tbody>\n",
       "    <tr>\n",
       "      <th>Leverposition</th>\n",
       "      <td>2.600143e-01</td>\n",
       "    </tr>\n",
       "    <tr>\n",
       "      <th>Shipspeed(v)</th>\n",
       "      <td>-7.623696e-02</td>\n",
       "    </tr>\n",
       "    <tr>\n",
       "      <th>GasTurbine(GT)shafttorque(GTT)[kNm]</th>\n",
       "      <td>-3.195261e-07</td>\n",
       "    </tr>\n",
       "    <tr>\n",
       "      <th>GTrateofrevolutions(GTn)[rpm]</th>\n",
       "      <td>-2.927406e-05</td>\n",
       "    </tr>\n",
       "    <tr>\n",
       "      <th>GasGeneratorrateofrevolutions(GGn)[rpm]</th>\n",
       "      <td>3.138018e-05</td>\n",
       "    </tr>\n",
       "    <tr>\n",
       "      <th>StarboardPropellerTorque(Ts)[kN]</th>\n",
       "      <td>-5.617106e-04</td>\n",
       "    </tr>\n",
       "    <tr>\n",
       "      <th>PortPropellerTorque(Tp)[kN]</th>\n",
       "      <td>-5.617106e-04</td>\n",
       "    </tr>\n",
       "    <tr>\n",
       "      <th>HightPressure(HP)Turbineexittemperature(T48)[C]</th>\n",
       "      <td>-5.059786e-06</td>\n",
       "    </tr>\n",
       "    <tr>\n",
       "      <th>GTCompressoroutletairtemperature(T2)[C]</th>\n",
       "      <td>-3.390852e-03</td>\n",
       "    </tr>\n",
       "    <tr>\n",
       "      <th>HPTurbineexitpressure(P48)[bar]</th>\n",
       "      <td>1.844060e-01</td>\n",
       "    </tr>\n",
       "    <tr>\n",
       "      <th>GTCompressoroutletairpressure(P2)[bar]</th>\n",
       "      <td>1.416333e-02</td>\n",
       "    </tr>\n",
       "    <tr>\n",
       "      <th>GTexhaustgaspressure(Pexh)[bar]</th>\n",
       "      <td>7.849008e-01</td>\n",
       "    </tr>\n",
       "    <tr>\n",
       "      <th>TurbineInjectonControl(TIC)[%]</th>\n",
       "      <td>-7.256917e-04</td>\n",
       "    </tr>\n",
       "    <tr>\n",
       "      <th>Fuelflow(mf)[kg/s]</th>\n",
       "      <td>2.222444e-01</td>\n",
       "    </tr>\n",
       "  </tbody>\n",
       "</table>\n",
       "</div>"
      ],
      "text/plain": [
       "                                                  Coeffecient\n",
       "Leverposition                                    2.600143e-01\n",
       "Shipspeed(v)                                    -7.623696e-02\n",
       "GasTurbine(GT)shafttorque(GTT)[kNm]             -3.195261e-07\n",
       "GTrateofrevolutions(GTn)[rpm]                   -2.927406e-05\n",
       "GasGeneratorrateofrevolutions(GGn)[rpm]          3.138018e-05\n",
       "StarboardPropellerTorque(Ts)[kN]                -5.617106e-04\n",
       "PortPropellerTorque(Tp)[kN]                     -5.617106e-04\n",
       "HightPressure(HP)Turbineexittemperature(T48)[C] -5.059786e-06\n",
       "GTCompressoroutletairtemperature(T2)[C]         -3.390852e-03\n",
       "HPTurbineexitpressure(P48)[bar]                  1.844060e-01\n",
       "GTCompressoroutletairpressure(P2)[bar]           1.416333e-02\n",
       "GTexhaustgaspressure(Pexh)[bar]                  7.849008e-01\n",
       "TurbineInjectonControl(TIC)[%]                  -7.256917e-04\n",
       "Fuelflow(mf)[kg/s]                               2.222444e-01"
      ]
     },
     "execution_count": 66,
     "metadata": {},
     "output_type": "execute_result"
    }
   ],
   "source": [
    "# Recerating the coefficients of the model as dataframe\n",
    "coeffecients = pd.DataFrame(lm.coef_,X.columns)\n",
    "coeffecients.columns = ['Coeffecient']\n",
    "coeffecients"
   ]
  },
  {
   "cell_type": "code",
   "execution_count": 67,
   "id": "8eb5d473",
   "metadata": {
    "execution": {
     "iopub.execute_input": "2023-01-05T11:29:15.350470Z",
     "iopub.status.busy": "2023-01-05T11:29:15.350092Z",
     "iopub.status.idle": "2023-01-05T11:29:15.355540Z",
     "shell.execute_reply": "2023-01-05T11:29:15.354478Z"
    },
    "papermill": {
     "duration": 0.025527,
     "end_time": "2023-01-05T11:29:15.357565",
     "exception": false,
     "start_time": "2023-01-05T11:29:15.332038",
     "status": "completed"
    },
    "tags": []
   },
   "outputs": [],
   "source": [
    "# Checking the RMSE and r2_score value between y_test and predicted y_test values\n",
    "from sklearn import metrics"
   ]
  },
  {
   "cell_type": "code",
   "execution_count": 68,
   "id": "26c24f52",
   "metadata": {
    "execution": {
     "iopub.execute_input": "2023-01-05T11:29:15.393000Z",
     "iopub.status.busy": "2023-01-05T11:29:15.392610Z",
     "iopub.status.idle": "2023-01-05T11:29:15.401687Z",
     "shell.execute_reply": "2023-01-05T11:29:15.399467Z"
    },
    "papermill": {
     "duration": 0.029838,
     "end_time": "2023-01-05T11:29:15.404222",
     "exception": false,
     "start_time": "2023-01-05T11:29:15.374384",
     "status": "completed"
    },
    "tags": []
   },
   "outputs": [
    {
     "name": "stdout",
     "output_type": "stream",
     "text": [
      "RMSE: 0.005777053365878182\n",
      "R2 score: 0.8454340416553053\n"
     ]
    }
   ],
   "source": [
    "print('RMSE:', np.sqrt(metrics.mean_squared_error(y_test, pred)))\n",
    "print('R2 score:', metrics.r2_score(y_test, pred))"
   ]
  },
  {
   "cell_type": "code",
   "execution_count": 70,
   "id": "6ef2ecad",
   "metadata": {
    "execution": {
     "iopub.execute_input": "2023-01-05T11:29:15.442613Z",
     "iopub.status.busy": "2023-01-05T11:29:15.441825Z",
     "iopub.status.idle": "2023-01-05T11:29:15.688436Z",
     "shell.execute_reply": "2023-01-05T11:29:15.687290Z"
    },
    "papermill": {
     "duration": 0.268951,
     "end_time": "2023-01-05T11:29:15.690328",
     "exception": false,
     "start_time": "2023-01-05T11:29:15.421377",
     "status": "completed"
    },
    "tags": []
   },
   "outputs": [
    {
     "data": {
      "text/plain": [
       "Text(0, 0.5, 'Predicted Y')"
      ]
     },
     "execution_count": 70,
     "metadata": {},
     "output_type": "execute_result"
    },
    {
     "data": {
      "image/png": "[encoded data removed]",
      "text/plain": [
       "<Figure size 640x480 with 1 Axes>"
      ]
     },
     "metadata": {},
     "output_type": "display_data"
    }
   ],
   "source": [
    "# Creatinng a scatterplot of the y_test values vs the predicted y_test values\n",
    "sns.set_style('darkgrid')\n",
    "plt.scatter(y_test,pred,c='purple')\n",
    "plt.xlabel('Y Test')\n",
    "plt.ylabel('Predicted Y')"
   ]
  },
  {
   "cell_type": "code",
   "execution_count": 72,
   "id": "756ce4ae",
   "metadata": {
    "execution": {
     "iopub.execute_input": "2023-01-05T11:29:15.726159Z",
     "iopub.status.busy": "2023-01-05T11:29:15.725797Z",
     "iopub.status.idle": "2023-01-05T11:29:16.422884Z",
     "shell.execute_reply": "2023-01-05T11:29:16.421683Z"
    },
    "papermill": {
     "duration": 0.717832,
     "end_time": "2023-01-05T11:29:16.425404",
     "exception": false,
     "start_time": "2023-01-05T11:29:15.707572",
     "status": "completed"
    },
    "tags": []
   },
   "outputs": [],
   "source": [
    "# Importing the statsmodels library\n",
    "import statsmodels.api as sm"
   ]
  },
  {
   "cell_type": "code",
   "execution_count": 73,
   "id": "452c2652",
   "metadata": {
    "execution": {
     "iopub.execute_input": "2023-01-05T11:29:16.461219Z",
     "iopub.status.busy": "2023-01-05T11:29:16.460859Z",
     "iopub.status.idle": "2023-01-05T11:29:16.466944Z",
     "shell.execute_reply": "2023-01-05T11:29:16.465692Z"
    },
    "papermill": {
     "duration": 0.027071,
     "end_time": "2023-01-05T11:29:16.469602",
     "exception": false,
     "start_time": "2023-01-05T11:29:16.442531",
     "status": "completed"
    },
    "tags": []
   },
   "outputs": [],
   "source": [
    "# Let's define a function for the multiple regression\n",
    "def linear_Regression(x,y):\n",
    "    \n",
    "    x = sm.add_constant(x)\n",
    "    \n",
    "    # defining the model, fitting the model and printing the model summary\n",
    "    sm_model = sm.OLS(y,x).fit()\n",
    "    print(sm_model.summary())"
   ]
  },
  {
   "cell_type": "code",
   "execution_count": 92,
   "id": "d35ee400",
   "metadata": {
    "execution": {
     "iopub.execute_input": "2023-01-05T11:29:16.506231Z",
     "iopub.status.busy": "2023-01-05T11:29:16.505887Z",
     "iopub.status.idle": "2023-01-05T11:29:16.549753Z",
     "shell.execute_reply": "2023-01-05T11:29:16.548899Z"
    },
    "papermill": {
     "duration": 0.076598,
     "end_time": "2023-01-05T11:29:16.564200",
     "exception": false,
     "start_time": "2023-01-05T11:29:16.487602",
     "status": "completed"
    },
    "tags": []
   },
   "outputs": [
    {
     "name": "stdout",
     "output_type": "stream",
     "text": [
      "                                    OLS Regression Results                                   \n",
      "=============================================================================================\n",
      "Dep. Variable:     GTCompressordecaystatecoefficient   R-squared:                       0.843\n",
      "Model:                                           OLS   Adj. R-squared:                  0.843\n",
      "Method:                                Least Squares   F-statistic:                     5818.\n",
      "Date:                               Tue, 19 Dec 2023   Prob (F-statistic):               0.00\n",
      "Time:                                       16:23:28   Log-Likelihood:                 44458.\n",
      "No. Observations:                              11934   AIC:                        -8.889e+04\n",
      "Df Residuals:                                  11922   BIC:                        -8.880e+04\n",
      "Df Model:                                         11                                         \n",
      "Covariance Type:                           nonrobust                                         \n",
      "===========================================================================================================\n",
      "                                              coef    std err          t      P>|t|      [0.025      0.975]\n",
      "-----------------------------------------------------------------------------------------------------------\n",
      "const                                       1.5610      0.186      8.401      0.000       1.197       1.925\n",
      "Leverposition                               0.2591      0.004     64.657      0.000       0.251       0.267\n",
      "Shipspeed(v)                               -0.0760      0.001    -61.483      0.000      -0.078      -0.074\n",
      "GTrateofrevolutions(GTn)[rpm]           -2.729e-05   2.52e-06    -10.850      0.000   -3.22e-05   -2.24e-05\n",
      "GasGeneratorrateofrevolutions(GGn)[rpm]  3.053e-05   6.58e-07     46.432      0.000    2.92e-05    3.18e-05\n",
      "StarboardPropellerTorque(Ts)[kN]           -0.0006    5.2e-06   -108.073      0.000      -0.001      -0.001\n",
      "PortPropellerTorque(Tp)[kN]                -0.0006    5.2e-06   -108.073      0.000      -0.001      -0.001\n",
      "GTCompressoroutletairtemperature(T2)[C]    -0.0034   2.55e-05   -133.096      0.000      -0.003      -0.003\n",
      "HPTurbineexitpressure(P48)[bar]             0.1794      0.006     29.471      0.000       0.168       0.191\n",
      "GTCompressoroutletairpressure(P2)[bar]      0.0145      0.001     23.346      0.000       0.013       0.016\n",
      "GTexhaustgaspressure(Pexh)[bar]             0.7302      0.182      4.001      0.000       0.373       1.088\n",
      "TurbineInjectonControl(TIC)[%]             -0.0007   1.44e-05    -49.830      0.000      -0.001      -0.001\n",
      "Fuelflow(mf)[kg/s]                          0.2142      0.007     30.052      0.000       0.200       0.228\n",
      "==============================================================================\n",
      "Omnibus:                       69.271   Durbin-Watson:                   1.552\n",
      "Prob(Omnibus):                  0.000   Jarque-Bera (JB):               83.747\n",
      "Skew:                          -0.117   Prob(JB):                     6.53e-19\n",
      "Kurtosis:                       3.337   Cond. No.                     1.32e+19\n",
      "==============================================================================\n",
      "\n",
      "Notes:\n",
      "[1] Standard Errors assume that the covariance matrix of the errors is correctly specified.\n",
      "[2] The smallest eigenvalue is 5.05e-27. This might indicate that there are\n",
      "strong multicollinearity problems or that the design matrix is singular.\n"
     ]
    }
   ],
   "source": [
    "# Calling the linear regression function\n",
    "linear_Regression(X,y)"
   ]
  },
  {
   "cell_type": "markdown",
   "id": "1d603294",
   "metadata": {
    "papermill": {
     "duration": 0.02302,
     "end_time": "2023-01-05T11:29:16.612818",
     "exception": false,
     "start_time": "2023-01-05T11:29:16.589798",
     "status": "completed"
    },
    "tags": []
   },
   "source": [
    "## Inference from Model 1\n",
    "\n",
    "1. The **R-squared** value is **0.843** which states that about **84.3%** of proportion of **variability** in data can be explained by this **linear regression model**. The **R-squared** is the most **important parameter** for a **model evaluation**. Higher the value, better is the fit. \n",
    "2. The **p-value** is the most **important measure** for evaluating the various **variables**. Closer is the **p-value to 1**, the **lesser** is that **feature variable** has to do with the **label variable**.In our model, **Hight Pressure (HP) Turbine exit temperature, Gas Turbine shaft torque (GTT)** are all close to **1** meaning they **don't** play **much role** in predicting the GT Compressor decay state coefficient.\n",
    "3. Finally, the **expression** for this model can be written from the **coefficients** as follows\n",
    "\n",
    "**GT Compressor decay state coefficient = 0.9771 - 0.0024 * Lever position - 0.0766 * Ship speed - 5.185e-07 * GTT -2.982e-05 * GTn + 3.085e-05 * GGn - 0.0006 * Ts - 0.0006 * Tp + 5.588e-06 * HP - 0.0034 * T2 + 0.1901 * P48 + 0.0138 * P2 + 0.7473 * Pexh - 0.0007 * TIC + 0.2179 * mf**"
   ]
  },
  {
   "cell_type": "markdown",
   "id": "24c5dc29",
   "metadata": {
    "papermill": {
     "duration": 0.028774,
     "end_time": "2023-01-05T11:29:16.664986",
     "exception": false,
     "start_time": "2023-01-05T11:29:16.636212",
     "status": "completed"
    },
    "tags": []
   },
   "source": [
    "### Now let's eliminate Hight Pressure (HP) Turbine exit temperature, Gas Turbine shaft torque (GTT) and build the model to see if there's any improvement."
   ]
  },
  {
   "cell_type": "code",
   "execution_count": 75,
   "id": "131fd4c0",
   "metadata": {
    "execution": {
     "iopub.execute_input": "2023-01-05T11:29:16.717542Z",
     "iopub.status.busy": "2023-01-05T11:29:16.717097Z",
     "iopub.status.idle": "2023-01-05T11:29:16.737245Z",
     "shell.execute_reply": "2023-01-05T11:29:16.735772Z"
    },
    "papermill": {
     "duration": 0.047618,
     "end_time": "2023-01-05T11:29:16.739466",
     "exception": false,
     "start_time": "2023-01-05T11:29:16.691848",
     "status": "completed"
    },
    "tags": []
   },
   "outputs": [
    {
     "data": {
      "text/html": [
       "<div>\n",
       "<style scoped>\n",
       "    .dataframe tbody tr th:only-of-type {\n",
       "        vertical-align: middle;\n",
       "    }\n",
       "\n",
       "    .dataframe tbody tr th {\n",
       "        vertical-align: top;\n",
       "    }\n",
       "\n",
       "    .dataframe thead th {\n",
       "        text-align: right;\n",
       "    }\n",
       "</style>\n",
       "<table border=\"1\" class=\"dataframe\">\n",
       "  <thead>\n",
       "    <tr style=\"text-align: right;\">\n",
       "      <th></th>\n",
       "      <th>Leverposition</th>\n",
       "      <th>Shipspeed(v)</th>\n",
       "      <th>GasTurbine(GT)shafttorque(GTT)[kNm]</th>\n",
       "      <th>GTrateofrevolutions(GTn)[rpm]</th>\n",
       "      <th>GasGeneratorrateofrevolutions(GGn)[rpm]</th>\n",
       "      <th>StarboardPropellerTorque(Ts)[kN]</th>\n",
       "      <th>PortPropellerTorque(Tp)[kN]</th>\n",
       "      <th>HightPressure(HP)Turbineexittemperature(T48)[C]</th>\n",
       "      <th>GTCompressoroutletairtemperature(T2)[C]</th>\n",
       "      <th>HPTurbineexitpressure(P48)[bar]</th>\n",
       "      <th>GTCompressoroutletairpressure(P2)[bar]</th>\n",
       "      <th>GTexhaustgaspressure(Pexh)[bar]</th>\n",
       "      <th>TurbineInjectonControl(TIC)[%]</th>\n",
       "      <th>Fuelflow(mf)[kg/s]</th>\n",
       "    </tr>\n",
       "  </thead>\n",
       "  <tbody>\n",
       "    <tr>\n",
       "      <th>0</th>\n",
       "      <td>1.138</td>\n",
       "      <td>3</td>\n",
       "      <td>289.964</td>\n",
       "      <td>1349.489</td>\n",
       "      <td>6677.380</td>\n",
       "      <td>7.584</td>\n",
       "      <td>7.584</td>\n",
       "      <td>464.006</td>\n",
       "      <td>550.563</td>\n",
       "      <td>1.096</td>\n",
       "      <td>5.947</td>\n",
       "      <td>1.019</td>\n",
       "      <td>7.137</td>\n",
       "      <td>0.082</td>\n",
       "    </tr>\n",
       "    <tr>\n",
       "      <th>1</th>\n",
       "      <td>2.088</td>\n",
       "      <td>6</td>\n",
       "      <td>6960.180</td>\n",
       "      <td>1376.166</td>\n",
       "      <td>6828.469</td>\n",
       "      <td>28.204</td>\n",
       "      <td>28.204</td>\n",
       "      <td>635.401</td>\n",
       "      <td>581.658</td>\n",
       "      <td>1.331</td>\n",
       "      <td>7.282</td>\n",
       "      <td>1.019</td>\n",
       "      <td>10.655</td>\n",
       "      <td>0.287</td>\n",
       "    </tr>\n",
       "    <tr>\n",
       "      <th>2</th>\n",
       "      <td>3.144</td>\n",
       "      <td>9</td>\n",
       "      <td>8379.229</td>\n",
       "      <td>1386.757</td>\n",
       "      <td>7111.811</td>\n",
       "      <td>60.358</td>\n",
       "      <td>60.358</td>\n",
       "      <td>606.002</td>\n",
       "      <td>587.587</td>\n",
       "      <td>1.389</td>\n",
       "      <td>7.574</td>\n",
       "      <td>1.020</td>\n",
       "      <td>13.086</td>\n",
       "      <td>0.259</td>\n",
       "    </tr>\n",
       "    <tr>\n",
       "      <th>3</th>\n",
       "      <td>4.161</td>\n",
       "      <td>12</td>\n",
       "      <td>14724.395</td>\n",
       "      <td>1547.465</td>\n",
       "      <td>7792.630</td>\n",
       "      <td>113.774</td>\n",
       "      <td>113.774</td>\n",
       "      <td>661.471</td>\n",
       "      <td>613.851</td>\n",
       "      <td>1.658</td>\n",
       "      <td>9.007</td>\n",
       "      <td>1.022</td>\n",
       "      <td>18.109</td>\n",
       "      <td>0.358</td>\n",
       "    </tr>\n",
       "    <tr>\n",
       "      <th>4</th>\n",
       "      <td>5.140</td>\n",
       "      <td>15</td>\n",
       "      <td>21636.432</td>\n",
       "      <td>1924.313</td>\n",
       "      <td>8494.777</td>\n",
       "      <td>175.306</td>\n",
       "      <td>175.306</td>\n",
       "      <td>731.494</td>\n",
       "      <td>645.642</td>\n",
       "      <td>2.078</td>\n",
       "      <td>11.197</td>\n",
       "      <td>1.026</td>\n",
       "      <td>26.373</td>\n",
       "      <td>0.522</td>\n",
       "    </tr>\n",
       "  </tbody>\n",
       "</table>\n",
       "</div>"
      ],
      "text/plain": [
       "   Leverposition  Shipspeed(v)  GasTurbine(GT)shafttorque(GTT)[kNm]  \\\n",
       "0          1.138             3                              289.964   \n",
       "1          2.088             6                             6960.180   \n",
       "2          3.144             9                             8379.229   \n",
       "3          4.161            12                            14724.395   \n",
       "4          5.140            15                            21636.432   \n",
       "\n",
       "   GTrateofrevolutions(GTn)[rpm]  GasGeneratorrateofrevolutions(GGn)[rpm]  \\\n",
       "0                       1349.489                                 6677.380   \n",
       "1                       1376.166                                 6828.469   \n",
       "2                       1386.757                                 7111.811   \n",
       "3                       1547.465                                 7792.630   \n",
       "4                       1924.313                                 8494.777   \n",
       "\n",
       "   StarboardPropellerTorque(Ts)[kN]  PortPropellerTorque(Tp)[kN]  \\\n",
       "0                             7.584                        7.584   \n",
       "1                            28.204                       28.204   \n",
       "2                            60.358                       60.358   \n",
       "3                           113.774                      113.774   \n",
       "4                           175.306                      175.306   \n",
       "\n",
       "   HightPressure(HP)Turbineexittemperature(T48)[C]  \\\n",
       "0                                          464.006   \n",
       "1                                          635.401   \n",
       "2                                          606.002   \n",
       "3                                          661.471   \n",
       "4                                          731.494   \n",
       "\n",
       "   GTCompressoroutletairtemperature(T2)[C]  HPTurbineexitpressure(P48)[bar]  \\\n",
       "0                                  550.563                            1.096   \n",
       "1                                  581.658                            1.331   \n",
       "2                                  587.587                            1.389   \n",
       "3                                  613.851                            1.658   \n",
       "4                                  645.642                            2.078   \n",
       "\n",
       "   GTCompressoroutletairpressure(P2)[bar]  GTexhaustgaspressure(Pexh)[bar]  \\\n",
       "0                                   5.947                            1.019   \n",
       "1                                   7.282                            1.019   \n",
       "2                                   7.574                            1.020   \n",
       "3                                   9.007                            1.022   \n",
       "4                                  11.197                            1.026   \n",
       "\n",
       "   TurbineInjectonControl(TIC)[%]  Fuelflow(mf)[kg/s]  \n",
       "0                           7.137               0.082  \n",
       "1                          10.655               0.287  \n",
       "2                          13.086               0.259  \n",
       "3                          18.109               0.358  \n",
       "4                          26.373               0.522  "
      ]
     },
     "execution_count": 75,
     "metadata": {},
     "output_type": "execute_result"
    }
   ],
   "source": [
    "# Check X\n",
    "X.head()"
   ]
  },
  {
   "cell_type": "code",
   "execution_count": 78,
   "id": "f6d3e796",
   "metadata": {},
   "outputs": [
    {
     "data": {
      "text/plain": [
       "Index(['Leverposition', 'Shipspeed(v)', 'GasTurbine(GT)shafttorque(GTT)[kNm]',\n",
       "       'GTrateofrevolutions(GTn)[rpm]',\n",
       "       'GasGeneratorrateofrevolutions(GGn)[rpm]',\n",
       "       'StarboardPropellerTorque(Ts)[kN]', 'PortPropellerTorque(Tp)[kN]',\n",
       "       'HightPressure(HP)Turbineexittemperature(T48)[C]',\n",
       "       'GTCompressoroutletairtemperature(T2)[C]',\n",
       "       'HPTurbineexitpressure(P48)[bar]',\n",
       "       'GTCompressoroutletairpressure(P2)[bar]',\n",
       "       'GTexhaustgaspressure(Pexh)[bar]', 'TurbineInjectonControl(TIC)[%]',\n",
       "       'Fuelflow(mf)[kg/s]'],\n",
       "      dtype='object')"
      ]
     },
     "execution_count": 78,
     "metadata": {},
     "output_type": "execute_result"
    }
   ],
   "source": [
    "X.columns"
   ]
  },
  {
   "cell_type": "code",
   "execution_count": 79,
   "id": "f643826a",
   "metadata": {
    "execution": {
     "iopub.execute_input": "2023-01-05T11:29:16.785389Z",
     "iopub.status.busy": "2023-01-05T11:29:16.784601Z",
     "iopub.status.idle": "2023-01-05T11:29:16.790660Z",
     "shell.execute_reply": "2023-01-05T11:29:16.789855Z"
    },
    "papermill": {
     "duration": 0.029783,
     "end_time": "2023-01-05T11:29:16.792973",
     "exception": false,
     "start_time": "2023-01-05T11:29:16.763190",
     "status": "completed"
    },
    "tags": []
   },
   "outputs": [],
   "source": [
    "X = X.drop(['GasTurbine(GT)shafttorque(GTT)[kNm]','HightPressure(HP)Turbineexittemperature(T48)[C]'], axis = 1)"
   ]
  },
  {
   "cell_type": "code",
   "execution_count": 80,
   "id": "48b98547",
   "metadata": {
    "execution": {
     "iopub.execute_input": "2023-01-05T11:29:16.831610Z",
     "iopub.status.busy": "2023-01-05T11:29:16.830925Z",
     "iopub.status.idle": "2023-01-05T11:29:16.880045Z",
     "shell.execute_reply": "2023-01-05T11:29:16.879187Z"
    },
    "papermill": {
     "duration": 0.080338,
     "end_time": "2023-01-05T11:29:16.891476",
     "exception": false,
     "start_time": "2023-01-05T11:29:16.811138",
     "status": "completed"
    },
    "tags": []
   },
   "outputs": [
    {
     "name": "stdout",
     "output_type": "stream",
     "text": [
      "                                    OLS Regression Results                                   \n",
      "=============================================================================================\n",
      "Dep. Variable:     GTCompressordecaystatecoefficient   R-squared:                       0.843\n",
      "Model:                                           OLS   Adj. R-squared:                  0.843\n",
      "Method:                                Least Squares   F-statistic:                     5818.\n",
      "Date:                               Tue, 19 Dec 2023   Prob (F-statistic):               0.00\n",
      "Time:                                       15:59:26   Log-Likelihood:                 44458.\n",
      "No. Observations:                              11934   AIC:                        -8.889e+04\n",
      "Df Residuals:                                  11922   BIC:                        -8.880e+04\n",
      "Df Model:                                         11                                         \n",
      "Covariance Type:                           nonrobust                                         \n",
      "===========================================================================================================\n",
      "                                              coef    std err          t      P>|t|      [0.025      0.975]\n",
      "-----------------------------------------------------------------------------------------------------------\n",
      "const                                       1.5610      0.186      8.401      0.000       1.197       1.925\n",
      "Leverposition                               0.2591      0.004     64.657      0.000       0.251       0.267\n",
      "Shipspeed(v)                               -0.0760      0.001    -61.483      0.000      -0.078      -0.074\n",
      "GTrateofrevolutions(GTn)[rpm]           -2.729e-05   2.52e-06    -10.850      0.000   -3.22e-05   -2.24e-05\n",
      "GasGeneratorrateofrevolutions(GGn)[rpm]  3.053e-05   6.58e-07     46.432      0.000    2.92e-05    3.18e-05\n",
      "StarboardPropellerTorque(Ts)[kN]           -0.0006    5.2e-06   -108.073      0.000      -0.001      -0.001\n",
      "PortPropellerTorque(Tp)[kN]                -0.0006    5.2e-06   -108.073      0.000      -0.001      -0.001\n",
      "GTCompressoroutletairtemperature(T2)[C]    -0.0034   2.55e-05   -133.096      0.000      -0.003      -0.003\n",
      "HPTurbineexitpressure(P48)[bar]             0.1794      0.006     29.471      0.000       0.168       0.191\n",
      "GTCompressoroutletairpressure(P2)[bar]      0.0145      0.001     23.346      0.000       0.013       0.016\n",
      "GTexhaustgaspressure(Pexh)[bar]             0.7302      0.182      4.001      0.000       0.373       1.088\n",
      "TurbineInjectonControl(TIC)[%]             -0.0007   1.44e-05    -49.830      0.000      -0.001      -0.001\n",
      "Fuelflow(mf)[kg/s]                          0.2142      0.007     30.052      0.000       0.200       0.228\n",
      "==============================================================================\n",
      "Omnibus:                       69.271   Durbin-Watson:                   1.552\n",
      "Prob(Omnibus):                  0.000   Jarque-Bera (JB):               83.747\n",
      "Skew:                          -0.117   Prob(JB):                     6.53e-19\n",
      "Kurtosis:                       3.337   Cond. No.                     1.32e+19\n",
      "==============================================================================\n",
      "\n",
      "Notes:\n",
      "[1] Standard Errors assume that the covariance matrix of the errors is correctly specified.\n",
      "[2] The smallest eigenvalue is 5.05e-27. This might indicate that there are\n",
      "strong multicollinearity problems or that the design matrix is singular.\n"
     ]
    }
   ],
   "source": [
    "# Calling the linear_Regression function\n",
    "linear_Regression(X,y)"
   ]
  },
  {
   "cell_type": "markdown",
   "id": "72e69ff9",
   "metadata": {
    "papermill": {
     "duration": 0.025318,
     "end_time": "2023-01-05T11:29:16.944925",
     "exception": false,
     "start_time": "2023-01-05T11:29:16.919607",
     "status": "completed"
    },
    "tags": []
   },
   "source": [
    "## Inference\n",
    "\n",
    "1. The **R-squared value** remains same as **84.3%**.\n",
    "2. The **p-values** of all the **considered features** do play an **important role** in predicting the label.\n",
    "3. We can **improve** the **model** further by considering **interaction terms** based on the **correlation heatmap**.\n",
    "4. The various interaction terms are as follows\n",
    "- Ship speed and Lever position\n",
    "- Port propellar torque and Standard propellar torque\n",
    "- Turbine exit pressure and GT rate of revolutions\n",
    "- Turbine exit pressure and Standard propellar torque\n",
    "- Turbine exit pressure and Port propellar torque\n",
    "- Compressor outlet air pressure and Standard propellar torque\n",
    "- Compressor outlet air pressure and Port propellar torque\n",
    "- Compressor outlet air pressure and GT rate of revolutions\n",
    "- Compressor outlet air pressure and Turbine exit pressure\n",
    "- GT exhaust gas pressure and Standard propellar torque\n",
    "- GT exhaust gas pressure and Port propellar torque\n",
    "- GT exhaust gas pressure and Compressor outlet air pressure\n",
    "- GT exhaust gas pressure and Turbine exit pressure"
   ]
  },
  {
   "cell_type": "code",
   "execution_count": 83,
   "id": "a01ee256",
   "metadata": {},
   "outputs": [
    {
     "data": {
      "text/plain": [
       "Index(['Leverposition', 'Shipspeed(v)', 'GTrateofrevolutions(GTn)[rpm]',\n",
       "       'GasGeneratorrateofrevolutions(GGn)[rpm]',\n",
       "       'StarboardPropellerTorque(Ts)[kN]', 'PortPropellerTorque(Tp)[kN]',\n",
       "       'GTCompressoroutletairtemperature(T2)[C]',\n",
       "       'HPTurbineexitpressure(P48)[bar]',\n",
       "       'GTCompressoroutletairpressure(P2)[bar]',\n",
       "       'GTexhaustgaspressure(Pexh)[bar]', 'TurbineInjectonControl(TIC)[%]',\n",
       "       'Fuelflow(mf)[kg/s]'],\n",
       "      dtype='object')"
      ]
     },
     "execution_count": 83,
     "metadata": {},
     "output_type": "execute_result"
    }
   ],
   "source": [
    "X.columns"
   ]
  },
  {
   "cell_type": "code",
   "execution_count": 81,
   "id": "911a2120",
   "metadata": {
    "execution": {
     "iopub.execute_input": "2023-01-05T11:29:16.995090Z",
     "iopub.status.busy": "2023-01-05T11:29:16.994769Z",
     "iopub.status.idle": "2023-01-05T11:29:17.016578Z",
     "shell.execute_reply": "2023-01-05T11:29:17.015769Z"
    },
    "papermill": {
     "duration": 0.048578,
     "end_time": "2023-01-05T11:29:17.018799",
     "exception": false,
     "start_time": "2023-01-05T11:29:16.970221",
     "status": "completed"
    },
    "tags": []
   },
   "outputs": [
    {
     "data": {
      "text/html": [
       "<div>\n",
       "<style scoped>\n",
       "    .dataframe tbody tr th:only-of-type {\n",
       "        vertical-align: middle;\n",
       "    }\n",
       "\n",
       "    .dataframe tbody tr th {\n",
       "        vertical-align: top;\n",
       "    }\n",
       "\n",
       "    .dataframe thead th {\n",
       "        text-align: right;\n",
       "    }\n",
       "</style>\n",
       "<table border=\"1\" class=\"dataframe\">\n",
       "  <thead>\n",
       "    <tr style=\"text-align: right;\">\n",
       "      <th></th>\n",
       "      <th>Leverposition</th>\n",
       "      <th>Shipspeed(v)</th>\n",
       "      <th>GTrateofrevolutions(GTn)[rpm]</th>\n",
       "      <th>GasGeneratorrateofrevolutions(GGn)[rpm]</th>\n",
       "      <th>StarboardPropellerTorque(Ts)[kN]</th>\n",
       "      <th>PortPropellerTorque(Tp)[kN]</th>\n",
       "      <th>GTCompressoroutletairtemperature(T2)[C]</th>\n",
       "      <th>HPTurbineexitpressure(P48)[bar]</th>\n",
       "      <th>GTCompressoroutletairpressure(P2)[bar]</th>\n",
       "      <th>GTexhaustgaspressure(Pexh)[bar]</th>\n",
       "      <th>TurbineInjectonControl(TIC)[%]</th>\n",
       "      <th>Fuelflow(mf)[kg/s]</th>\n",
       "    </tr>\n",
       "  </thead>\n",
       "  <tbody>\n",
       "    <tr>\n",
       "      <th>0</th>\n",
       "      <td>1.138</td>\n",
       "      <td>3</td>\n",
       "      <td>1349.489</td>\n",
       "      <td>6677.380</td>\n",
       "      <td>7.584</td>\n",
       "      <td>7.584</td>\n",
       "      <td>550.563</td>\n",
       "      <td>1.096</td>\n",
       "      <td>5.947</td>\n",
       "      <td>1.019</td>\n",
       "      <td>7.137</td>\n",
       "      <td>0.082</td>\n",
       "    </tr>\n",
       "    <tr>\n",
       "      <th>1</th>\n",
       "      <td>2.088</td>\n",
       "      <td>6</td>\n",
       "      <td>1376.166</td>\n",
       "      <td>6828.469</td>\n",
       "      <td>28.204</td>\n",
       "      <td>28.204</td>\n",
       "      <td>581.658</td>\n",
       "      <td>1.331</td>\n",
       "      <td>7.282</td>\n",
       "      <td>1.019</td>\n",
       "      <td>10.655</td>\n",
       "      <td>0.287</td>\n",
       "    </tr>\n",
       "    <tr>\n",
       "      <th>2</th>\n",
       "      <td>3.144</td>\n",
       "      <td>9</td>\n",
       "      <td>1386.757</td>\n",
       "      <td>7111.811</td>\n",
       "      <td>60.358</td>\n",
       "      <td>60.358</td>\n",
       "      <td>587.587</td>\n",
       "      <td>1.389</td>\n",
       "      <td>7.574</td>\n",
       "      <td>1.020</td>\n",
       "      <td>13.086</td>\n",
       "      <td>0.259</td>\n",
       "    </tr>\n",
       "    <tr>\n",
       "      <th>3</th>\n",
       "      <td>4.161</td>\n",
       "      <td>12</td>\n",
       "      <td>1547.465</td>\n",
       "      <td>7792.630</td>\n",
       "      <td>113.774</td>\n",
       "      <td>113.774</td>\n",
       "      <td>613.851</td>\n",
       "      <td>1.658</td>\n",
       "      <td>9.007</td>\n",
       "      <td>1.022</td>\n",
       "      <td>18.109</td>\n",
       "      <td>0.358</td>\n",
       "    </tr>\n",
       "    <tr>\n",
       "      <th>4</th>\n",
       "      <td>5.140</td>\n",
       "      <td>15</td>\n",
       "      <td>1924.313</td>\n",
       "      <td>8494.777</td>\n",
       "      <td>175.306</td>\n",
       "      <td>175.306</td>\n",
       "      <td>645.642</td>\n",
       "      <td>2.078</td>\n",
       "      <td>11.197</td>\n",
       "      <td>1.026</td>\n",
       "      <td>26.373</td>\n",
       "      <td>0.522</td>\n",
       "    </tr>\n",
       "  </tbody>\n",
       "</table>\n",
       "</div>"
      ],
      "text/plain": [
       "   Leverposition  Shipspeed(v)  GTrateofrevolutions(GTn)[rpm]  \\\n",
       "0          1.138             3                       1349.489   \n",
       "1          2.088             6                       1376.166   \n",
       "2          3.144             9                       1386.757   \n",
       "3          4.161            12                       1547.465   \n",
       "4          5.140            15                       1924.313   \n",
       "\n",
       "   GasGeneratorrateofrevolutions(GGn)[rpm]  StarboardPropellerTorque(Ts)[kN]  \\\n",
       "0                                 6677.380                             7.584   \n",
       "1                                 6828.469                            28.204   \n",
       "2                                 7111.811                            60.358   \n",
       "3                                 7792.630                           113.774   \n",
       "4                                 8494.777                           175.306   \n",
       "\n",
       "   PortPropellerTorque(Tp)[kN]  GTCompressoroutletairtemperature(T2)[C]  \\\n",
       "0                        7.584                                  550.563   \n",
       "1                       28.204                                  581.658   \n",
       "2                       60.358                                  587.587   \n",
       "3                      113.774                                  613.851   \n",
       "4                      175.306                                  645.642   \n",
       "\n",
       "   HPTurbineexitpressure(P48)[bar]  GTCompressoroutletairpressure(P2)[bar]  \\\n",
       "0                            1.096                                   5.947   \n",
       "1                            1.331                                   7.282   \n",
       "2                            1.389                                   7.574   \n",
       "3                            1.658                                   9.007   \n",
       "4                            2.078                                  11.197   \n",
       "\n",
       "   GTexhaustgaspressure(Pexh)[bar]  TurbineInjectonControl(TIC)[%]  \\\n",
       "0                            1.019                           7.137   \n",
       "1                            1.019                          10.655   \n",
       "2                            1.020                          13.086   \n",
       "3                            1.022                          18.109   \n",
       "4                            1.026                          26.373   \n",
       "\n",
       "   Fuelflow(mf)[kg/s]  \n",
       "0               0.082  \n",
       "1               0.287  \n",
       "2               0.259  \n",
       "3               0.358  \n",
       "4               0.522  "
      ]
     },
     "execution_count": 81,
     "metadata": {},
     "output_type": "execute_result"
    }
   ],
   "source": [
    "# Check X\n",
    "X.head()"
   ]
  },
  {
   "cell_type": "code",
   "execution_count": 84,
   "id": "86f09ef4",
   "metadata": {
    "execution": {
     "iopub.execute_input": "2023-01-05T11:29:17.067036Z",
     "iopub.status.busy": "2023-01-05T11:29:17.065632Z",
     "iopub.status.idle": "2023-01-05T11:29:17.077973Z",
     "shell.execute_reply": "2023-01-05T11:29:17.076786Z"
    },
    "papermill": {
     "duration": 0.039752,
     "end_time": "2023-01-05T11:29:17.080542",
     "exception": false,
     "start_time": "2023-01-05T11:29:17.040790",
     "status": "completed"
    },
    "tags": []
   },
   "outputs": [],
   "source": [
    "# Get the interaction terms by multiplying values\n",
    "aa = X['Shipspeed(v)']*X['Leverposition']\n",
    "bb = X['PortPropellerTorque(Tp)[kN]']*X['StarboardPropellerTorque(Ts)[kN]']\n",
    "cc = X['HPTurbineexitpressure(P48)[bar]']*X['GTrateofrevolutions(GTn)[rpm]']\n",
    "dd = X['HPTurbineexitpressure(P48)[bar]']*X['StarboardPropellerTorque(Ts)[kN]']\n",
    "ee = X['HPTurbineexitpressure(P48)[bar]']*X['PortPropellerTorque(Tp)[kN]']\n",
    "ff = X['GTCompressoroutletairpressure(P2)[bar]']*X['StarboardPropellerTorque(Ts)[kN]']\n",
    "gg = X['GTCompressoroutletairpressure(P2)[bar]']*X['PortPropellerTorque(Tp)[kN]']\n",
    "hh = X['GTCompressoroutletairpressure(P2)[bar]']*X['GTrateofrevolutions(GTn)[rpm]']\n",
    "ii = X['GTCompressoroutletairpressure(P2)[bar]']*X['HPTurbineexitpressure(P48)[bar]']\n",
    "jj = X['GTexhaustgaspressure(Pexh)[bar]']*X['PortPropellerTorque(Tp)[kN]']\n",
    "kk = X['GTexhaustgaspressure(Pexh)[bar]']*X['StarboardPropellerTorque(Ts)[kN]']\n",
    "ll = X['GTexhaustgaspressure(Pexh)[bar]']*X['HPTurbineexitpressure(P48)[bar]']\n",
    "mm = X['GTexhaustgaspressure(Pexh)[bar]']*X['GTCompressoroutletairpressure(P2)[bar]']"
   ]
  },
  {
   "cell_type": "code",
   "execution_count": 85,
   "id": "8e95ee01",
   "metadata": {
    "execution": {
     "iopub.execute_input": "2023-01-05T11:29:17.121357Z",
     "iopub.status.busy": "2023-01-05T11:29:17.120940Z",
     "iopub.status.idle": "2023-01-05T11:29:17.159384Z",
     "shell.execute_reply": "2023-01-05T11:29:17.158120Z"
    },
    "papermill": {
     "duration": 0.060967,
     "end_time": "2023-01-05T11:29:17.161571",
     "exception": false,
     "start_time": "2023-01-05T11:29:17.100604",
     "status": "completed"
    },
    "tags": []
   },
   "outputs": [
    {
     "data": {
      "text/html": [
       "<div>\n",
       "<style scoped>\n",
       "    .dataframe tbody tr th:only-of-type {\n",
       "        vertical-align: middle;\n",
       "    }\n",
       "\n",
       "    .dataframe tbody tr th {\n",
       "        vertical-align: top;\n",
       "    }\n",
       "\n",
       "    .dataframe thead th {\n",
       "        text-align: right;\n",
       "    }\n",
       "</style>\n",
       "<table border=\"1\" class=\"dataframe\">\n",
       "  <thead>\n",
       "    <tr style=\"text-align: right;\">\n",
       "      <th></th>\n",
       "      <th>Leverposition</th>\n",
       "      <th>Shipspeed(v)</th>\n",
       "      <th>GTrateofrevolutions(GTn)[rpm]</th>\n",
       "      <th>GasGeneratorrateofrevolutions(GGn)[rpm]</th>\n",
       "      <th>StarboardPropellerTorque(Ts)[kN]</th>\n",
       "      <th>PortPropellerTorque(Tp)[kN]</th>\n",
       "      <th>GTCompressoroutletairtemperature(T2)[C]</th>\n",
       "      <th>HPTurbineexitpressure(P48)[bar]</th>\n",
       "      <th>GTCompressoroutletairpressure(P2)[bar]</th>\n",
       "      <th>GTexhaustgaspressure(Pexh)[bar]</th>\n",
       "      <th>...</th>\n",
       "      <th>dd</th>\n",
       "      <th>ee</th>\n",
       "      <th>ff</th>\n",
       "      <th>gg</th>\n",
       "      <th>hh</th>\n",
       "      <th>ii</th>\n",
       "      <th>jj</th>\n",
       "      <th>ll</th>\n",
       "      <th>mm</th>\n",
       "      <th>kk</th>\n",
       "    </tr>\n",
       "  </thead>\n",
       "  <tbody>\n",
       "    <tr>\n",
       "      <th>0</th>\n",
       "      <td>1.138</td>\n",
       "      <td>3</td>\n",
       "      <td>1349.489</td>\n",
       "      <td>6677.380</td>\n",
       "      <td>7.584</td>\n",
       "      <td>7.584</td>\n",
       "      <td>550.563</td>\n",
       "      <td>1.096</td>\n",
       "      <td>5.947</td>\n",
       "      <td>1.019</td>\n",
       "      <td>...</td>\n",
       "      <td>8.312064</td>\n",
       "      <td>8.312064</td>\n",
       "      <td>45.102048</td>\n",
       "      <td>45.102048</td>\n",
       "      <td>8025.411083</td>\n",
       "      <td>6.517912</td>\n",
       "      <td>7.728096</td>\n",
       "      <td>1.116824</td>\n",
       "      <td>6.059993</td>\n",
       "      <td>7.728096</td>\n",
       "    </tr>\n",
       "    <tr>\n",
       "      <th>1</th>\n",
       "      <td>2.088</td>\n",
       "      <td>6</td>\n",
       "      <td>1376.166</td>\n",
       "      <td>6828.469</td>\n",
       "      <td>28.204</td>\n",
       "      <td>28.204</td>\n",
       "      <td>581.658</td>\n",
       "      <td>1.331</td>\n",
       "      <td>7.282</td>\n",
       "      <td>1.019</td>\n",
       "      <td>...</td>\n",
       "      <td>37.539524</td>\n",
       "      <td>37.539524</td>\n",
       "      <td>205.381528</td>\n",
       "      <td>205.381528</td>\n",
       "      <td>10021.240812</td>\n",
       "      <td>9.692342</td>\n",
       "      <td>28.739876</td>\n",
       "      <td>1.356289</td>\n",
       "      <td>7.420358</td>\n",
       "      <td>28.739876</td>\n",
       "    </tr>\n",
       "    <tr>\n",
       "      <th>2</th>\n",
       "      <td>3.144</td>\n",
       "      <td>9</td>\n",
       "      <td>1386.757</td>\n",
       "      <td>7111.811</td>\n",
       "      <td>60.358</td>\n",
       "      <td>60.358</td>\n",
       "      <td>587.587</td>\n",
       "      <td>1.389</td>\n",
       "      <td>7.574</td>\n",
       "      <td>1.020</td>\n",
       "      <td>...</td>\n",
       "      <td>83.837262</td>\n",
       "      <td>83.837262</td>\n",
       "      <td>457.151492</td>\n",
       "      <td>457.151492</td>\n",
       "      <td>10503.297518</td>\n",
       "      <td>10.520286</td>\n",
       "      <td>61.565160</td>\n",
       "      <td>1.416780</td>\n",
       "      <td>7.725480</td>\n",
       "      <td>61.565160</td>\n",
       "    </tr>\n",
       "    <tr>\n",
       "      <th>3</th>\n",
       "      <td>4.161</td>\n",
       "      <td>12</td>\n",
       "      <td>1547.465</td>\n",
       "      <td>7792.630</td>\n",
       "      <td>113.774</td>\n",
       "      <td>113.774</td>\n",
       "      <td>613.851</td>\n",
       "      <td>1.658</td>\n",
       "      <td>9.007</td>\n",
       "      <td>1.022</td>\n",
       "      <td>...</td>\n",
       "      <td>188.637292</td>\n",
       "      <td>188.637292</td>\n",
       "      <td>1024.762418</td>\n",
       "      <td>1024.762418</td>\n",
       "      <td>13938.017255</td>\n",
       "      <td>14.933606</td>\n",
       "      <td>116.277028</td>\n",
       "      <td>1.694476</td>\n",
       "      <td>9.205154</td>\n",
       "      <td>116.277028</td>\n",
       "    </tr>\n",
       "    <tr>\n",
       "      <th>4</th>\n",
       "      <td>5.140</td>\n",
       "      <td>15</td>\n",
       "      <td>1924.313</td>\n",
       "      <td>8494.777</td>\n",
       "      <td>175.306</td>\n",
       "      <td>175.306</td>\n",
       "      <td>645.642</td>\n",
       "      <td>2.078</td>\n",
       "      <td>11.197</td>\n",
       "      <td>1.026</td>\n",
       "      <td>...</td>\n",
       "      <td>364.285868</td>\n",
       "      <td>364.285868</td>\n",
       "      <td>1962.901282</td>\n",
       "      <td>1962.901282</td>\n",
       "      <td>21546.532661</td>\n",
       "      <td>23.267366</td>\n",
       "      <td>179.863956</td>\n",
       "      <td>2.132028</td>\n",
       "      <td>11.488122</td>\n",
       "      <td>179.863956</td>\n",
       "    </tr>\n",
       "  </tbody>\n",
       "</table>\n",
       "<p>5 rows × 25 columns</p>\n",
       "</div>"
      ],
      "text/plain": [
       "   Leverposition  Shipspeed(v)  GTrateofrevolutions(GTn)[rpm]  \\\n",
       "0          1.138             3                       1349.489   \n",
       "1          2.088             6                       1376.166   \n",
       "2          3.144             9                       1386.757   \n",
       "3          4.161            12                       1547.465   \n",
       "4          5.140            15                       1924.313   \n",
       "\n",
       "   GasGeneratorrateofrevolutions(GGn)[rpm]  StarboardPropellerTorque(Ts)[kN]  \\\n",
       "0                                 6677.380                             7.584   \n",
       "1                                 6828.469                            28.204   \n",
       "2                                 7111.811                            60.358   \n",
       "3                                 7792.630                           113.774   \n",
       "4                                 8494.777                           175.306   \n",
       "\n",
       "   PortPropellerTorque(Tp)[kN]  GTCompressoroutletairtemperature(T2)[C]  \\\n",
       "0                        7.584                                  550.563   \n",
       "1                       28.204                                  581.658   \n",
       "2                       60.358                                  587.587   \n",
       "3                      113.774                                  613.851   \n",
       "4                      175.306                                  645.642   \n",
       "\n",
       "   HPTurbineexitpressure(P48)[bar]  GTCompressoroutletairpressure(P2)[bar]  \\\n",
       "0                            1.096                                   5.947   \n",
       "1                            1.331                                   7.282   \n",
       "2                            1.389                                   7.574   \n",
       "3                            1.658                                   9.007   \n",
       "4                            2.078                                  11.197   \n",
       "\n",
       "   GTexhaustgaspressure(Pexh)[bar]  ...          dd          ee           ff  \\\n",
       "0                            1.019  ...    8.312064    8.312064    45.102048   \n",
       "1                            1.019  ...   37.539524   37.539524   205.381528   \n",
       "2                            1.020  ...   83.837262   83.837262   457.151492   \n",
       "3                            1.022  ...  188.637292  188.637292  1024.762418   \n",
       "4                            1.026  ...  364.285868  364.285868  1962.901282   \n",
       "\n",
       "            gg            hh         ii          jj        ll         mm  \\\n",
       "0    45.102048   8025.411083   6.517912    7.728096  1.116824   6.059993   \n",
       "1   205.381528  10021.240812   9.692342   28.739876  1.356289   7.420358   \n",
       "2   457.151492  10503.297518  10.520286   61.565160  1.416780   7.725480   \n",
       "3  1024.762418  13938.017255  14.933606  116.277028  1.694476   9.205154   \n",
       "4  1962.901282  21546.532661  23.267366  179.863956  2.132028  11.488122   \n",
       "\n",
       "           kk  \n",
       "0    7.728096  \n",
       "1   28.739876  \n",
       "2   61.565160  \n",
       "3  116.277028  \n",
       "4  179.863956  \n",
       "\n",
       "[5 rows x 25 columns]"
      ]
     },
     "execution_count": 85,
     "metadata": {},
     "output_type": "execute_result"
    }
   ],
   "source": [
    "# Adding these interactions terms to dataset using .concat() function of pandas\n",
    "# We will call this dataset as interaction\n",
    "\n",
    "interaction = pd.concat([X,aa,bb,cc,dd,ee,ff,gg,hh,ii,jj,ll,mm,kk],axis=1)\n",
    "\n",
    "# Change column names of this interaction terms\n",
    "interaction = interaction.rename(columns = {0:'aa',1:'bb',2:'cc',3:'dd',4:'ee',5:'ff',6:'gg',7:'hh',8:'ii',9:'jj',\n",
    "                                            10:'ll',11:'mm',12:'kk'})\n",
    "\n",
    "interaction.head()"
   ]
  },
  {
   "cell_type": "code",
   "execution_count": 86,
   "id": "0ebfd729",
   "metadata": {
    "execution": {
     "iopub.execute_input": "2023-01-05T11:29:17.200434Z",
     "iopub.status.busy": "2023-01-05T11:29:17.199805Z",
     "iopub.status.idle": "2023-01-05T11:29:17.248138Z",
     "shell.execute_reply": "2023-01-05T11:29:17.247312Z"
    },
    "papermill": {
     "duration": 0.070408,
     "end_time": "2023-01-05T11:29:17.250776",
     "exception": false,
     "start_time": "2023-01-05T11:29:17.180368",
     "status": "completed"
    },
    "tags": []
   },
   "outputs": [
    {
     "name": "stdout",
     "output_type": "stream",
     "text": [
      "                                    OLS Regression Results                                   \n",
      "=============================================================================================\n",
      "Dep. Variable:     GTCompressordecaystatecoefficient   R-squared:                       0.935\n",
      "Model:                                           OLS   Adj. R-squared:                  0.934\n",
      "Method:                                Least Squares   F-statistic:                     8108.\n",
      "Date:                               Tue, 19 Dec 2023   Prob (F-statistic):               0.00\n",
      "Time:                                       16:03:45   Log-Likelihood:                 49686.\n",
      "No. Observations:                              11934   AIC:                        -9.933e+04\n",
      "Df Residuals:                                  11912   BIC:                        -9.916e+04\n",
      "Df Model:                                         21                                         \n",
      "Covariance Type:                           nonrobust                                         \n",
      "===========================================================================================================\n",
      "                                              coef    std err          t      P>|t|      [0.025      0.975]\n",
      "-----------------------------------------------------------------------------------------------------------\n",
      "const                                      -4.0715      1.368     -2.977      0.003      -6.753      -1.390\n",
      "Leverposition                               0.0664      0.006     11.226      0.000       0.055       0.078\n",
      "Shipspeed(v)                               -0.0238      0.002    -14.398      0.000      -0.027      -0.021\n",
      "GTrateofrevolutions(GTn)[rpm]               0.0005   1.55e-05     29.790      0.000       0.000       0.000\n",
      "GasGeneratorrateofrevolutions(GGn)[rpm] -4.332e-05    2.1e-06    -20.590      0.000   -4.74e-05   -3.92e-05\n",
      "StarboardPropellerTorque(Ts)[kN]            0.0183      0.004      4.754      0.000       0.011       0.026\n",
      "PortPropellerTorque(Tp)[kN]                 0.0183      0.004      4.754      0.000       0.011       0.026\n",
      "GTCompressoroutletairtemperature(T2)[C]    -0.0037    5.4e-05    -69.015      0.000      -0.004      -0.004\n",
      "HPTurbineexitpressure(P48)[bar]             6.2307      3.210      1.941      0.052      -0.062      12.523\n",
      "GTCompressoroutletairpressure(P2)[bar]     -1.3465      0.457     -2.945      0.003      -2.243      -0.450\n",
      "GTexhaustgaspressure(Pexh)[bar]             6.6593      1.358      4.905      0.000       3.998       9.321\n",
      "TurbineInjectonControl(TIC)[%]             -0.0008    2.8e-05    -26.874      0.000      -0.001      -0.001\n",
      "Fuelflow(mf)[kg/s]                          0.4661      0.019     24.543      0.000       0.429       0.503\n",
      "aa                                          0.0024      0.000     11.514      0.000       0.002       0.003\n",
      "bb                                      -7.692e-06   5.24e-07    -14.678      0.000   -8.72e-06   -6.67e-06\n",
      "cc                                          0.0002   2.86e-05      7.586      0.000       0.000       0.000\n",
      "dd                                          0.0010   9.95e-05     10.386      0.000       0.001       0.001\n",
      "ee                                          0.0010   9.95e-05     10.386      0.000       0.001       0.001\n",
      "ff                                       1.801e-05   1.07e-05      1.691      0.091   -2.87e-06    3.89e-05\n",
      "gg                                       1.801e-05   1.07e-05      1.691      0.091   -2.87e-06    3.89e-05\n",
      "hh                                         -0.0001   5.06e-06    -20.121      0.000      -0.000   -9.19e-05\n",
      "ii                                          0.0070      0.004      1.991      0.047       0.000       0.014\n",
      "jj                                         -0.0190      0.004     -5.010      0.000      -0.026      -0.012\n",
      "ll                                         -6.7498      3.180     -2.123      0.034     -12.982      -0.517\n",
      "mm                                          1.5000      0.452      3.319      0.001       0.614       2.386\n",
      "kk                                         -0.0190      0.004     -5.010      0.000      -0.026      -0.012\n",
      "==============================================================================\n",
      "Omnibus:                      127.143   Durbin-Watson:                   1.958\n",
      "Prob(Omnibus):                  0.000   Jarque-Bera (JB):              202.200\n",
      "Skew:                          -0.083   Prob(JB):                     1.24e-44\n",
      "Kurtosis:                       3.616   Cond. No.                     1.26e+16\n",
      "==============================================================================\n",
      "\n",
      "Notes:\n",
      "[1] Standard Errors assume that the covariance matrix of the errors is correctly specified.\n",
      "[2] The smallest eigenvalue is 2.01e-18. This might indicate that there are\n",
      "strong multicollinearity problems or that the design matrix is singular.\n"
     ]
    }
   ],
   "source": [
    "# Now let's fit this model to the Linear regression function\n",
    "\n",
    "linear_Regression(interaction,y)"
   ]
  },
  {
   "cell_type": "markdown",
   "id": "68d395d8",
   "metadata": {
    "papermill": {
     "duration": 0.024199,
     "end_time": "2023-01-05T11:29:17.300736",
     "exception": false,
     "start_time": "2023-01-05T11:29:17.276537",
     "status": "completed"
    },
    "tags": []
   },
   "source": [
    "## Model 1 Summary\n",
    "\n",
    "- Alright now, we have an increased R-squared of 93.5% or 0.935 which is very high.\n",
    "- We will stop here and declare this model as the most suitable for predicting GT Compressor decay state coefficient."
   ]
  },
  {
   "cell_type": "markdown",
   "id": "26767e1d",
   "metadata": {
    "papermill": {
     "duration": 0.025571,
     "end_time": "2023-01-05T11:29:17.350824",
     "exception": false,
     "start_time": "2023-01-05T11:29:17.325253",
     "status": "completed"
    },
    "tags": []
   },
   "source": [
    "## Model 2: Predicting GT Turbine decay state coefficient based on 14 features\n",
    "\n",
    "- Here we will be building multiple linear regression model to predict GT Turbine decay state coefficient based on all 14 features from lever position to fuel flow."
   ]
  },
  {
   "cell_type": "code",
   "execution_count": 36,
   "id": "7f60eda6",
   "metadata": {
    "execution": {
     "iopub.execute_input": "2023-01-05T11:29:17.395767Z",
     "iopub.status.busy": "2023-01-05T11:29:17.395293Z",
     "iopub.status.idle": "2023-01-05T11:29:17.403002Z",
     "shell.execute_reply": "2023-01-05T11:29:17.401743Z"
    },
    "papermill": {
     "duration": 0.035372,
     "end_time": "2023-01-05T11:29:17.405865",
     "exception": false,
     "start_time": "2023-01-05T11:29:17.370493",
     "status": "completed"
    },
    "tags": []
   },
   "outputs": [],
   "source": [
    "# Defining features and labels\n",
    "X = ns.drop(['Compressor DSC','Turbine DSC','index'],axis=1)\n",
    "\n",
    "y = ns['Turbine DSC']"
   ]
  },
  {
   "cell_type": "code",
   "execution_count": 37,
   "id": "be4584e8",
   "metadata": {
    "execution": {
     "iopub.execute_input": "2023-01-05T11:29:17.448418Z",
     "iopub.status.busy": "2023-01-05T11:29:17.448049Z",
     "iopub.status.idle": "2023-01-05T11:29:17.456648Z",
     "shell.execute_reply": "2023-01-05T11:29:17.455541Z"
    },
    "papermill": {
     "duration": 0.035076,
     "end_time": "2023-01-05T11:29:17.459437",
     "exception": false,
     "start_time": "2023-01-05T11:29:17.424361",
     "status": "completed"
    },
    "tags": []
   },
   "outputs": [],
   "source": [
    "# Splitting the dataset using the train_test_split\n",
    "X_train, X_test, y_train, y_test = train_test_split(X, y, test_size=0.2, random_state=101)"
   ]
  },
  {
   "cell_type": "code",
   "execution_count": 38,
   "id": "dccb9ddc",
   "metadata": {
    "execution": {
     "iopub.execute_input": "2023-01-05T11:29:17.500128Z",
     "iopub.status.busy": "2023-01-05T11:29:17.499479Z",
     "iopub.status.idle": "2023-01-05T11:29:17.503940Z",
     "shell.execute_reply": "2023-01-05T11:29:17.502771Z"
    },
    "papermill": {
     "duration": 0.028505,
     "end_time": "2023-01-05T11:29:17.506307",
     "exception": false,
     "start_time": "2023-01-05T11:29:17.477802",
     "status": "completed"
    },
    "tags": []
   },
   "outputs": [],
   "source": [
    "# Importing LinearRegression model from scikit learn library\n",
    "from sklearn.linear_model import LinearRegression"
   ]
  },
  {
   "cell_type": "code",
   "execution_count": 39,
   "id": "059a3caf",
   "metadata": {
    "execution": {
     "iopub.execute_input": "2023-01-05T11:29:17.545779Z",
     "iopub.status.busy": "2023-01-05T11:29:17.545076Z",
     "iopub.status.idle": "2023-01-05T11:29:17.549600Z",
     "shell.execute_reply": "2023-01-05T11:29:17.548371Z"
    },
    "papermill": {
     "duration": 0.027234,
     "end_time": "2023-01-05T11:29:17.552161",
     "exception": false,
     "start_time": "2023-01-05T11:29:17.524927",
     "status": "completed"
    },
    "tags": []
   },
   "outputs": [],
   "source": [
    "# Creating an instance of a LinearRegression() model named lt\n",
    "lt = LinearRegression()"
   ]
  },
  {
   "cell_type": "code",
   "execution_count": 40,
   "id": "aa463cf1",
   "metadata": {
    "execution": {
     "iopub.execute_input": "2023-01-05T11:29:17.591375Z",
     "iopub.status.busy": "2023-01-05T11:29:17.590820Z",
     "iopub.status.idle": "2023-01-05T11:29:17.603308Z",
     "shell.execute_reply": "2023-01-05T11:29:17.602412Z"
    },
    "papermill": {
     "duration": 0.034783,
     "end_time": "2023-01-05T11:29:17.605393",
     "exception": false,
     "start_time": "2023-01-05T11:29:17.570610",
     "status": "completed"
    },
    "tags": []
   },
   "outputs": [
    {
     "data": {
      "text/plain": [
       "LinearRegression()"
      ]
     },
     "execution_count": 40,
     "metadata": {},
     "output_type": "execute_result"
    }
   ],
   "source": [
    "# Fitting the lt model with training set\n",
    "lt.fit(X_train,y_train)"
   ]
  },
  {
   "cell_type": "code",
   "execution_count": 41,
   "id": "23f6d807",
   "metadata": {
    "execution": {
     "iopub.execute_input": "2023-01-05T11:29:17.655943Z",
     "iopub.status.busy": "2023-01-05T11:29:17.655581Z",
     "iopub.status.idle": "2023-01-05T11:29:17.671675Z",
     "shell.execute_reply": "2023-01-05T11:29:17.669754Z"
    },
    "papermill": {
     "duration": 0.044157,
     "end_time": "2023-01-05T11:29:17.674112",
     "exception": false,
     "start_time": "2023-01-05T11:29:17.629955",
     "status": "completed"
    },
    "tags": []
   },
   "outputs": [],
   "source": [
    "# Predicting the y values by using the .predict() function\n",
    "preds = lt.predict(X_test)"
   ]
  },
  {
   "cell_type": "code",
   "execution_count": null,
   "id": "7586c3c5",
   "metadata": {},
   "outputs": [],
   "source": [
    "."
   ]
  },
  {
   "cell_type": "code",
   "execution_count": 42,
   "id": "9a5bfce7",
   "metadata": {
    "execution": {
     "iopub.execute_input": "2023-01-05T11:29:17.739984Z",
     "iopub.status.busy": "2023-01-05T11:29:17.739593Z",
     "iopub.status.idle": "2023-01-05T11:29:17.746738Z",
     "shell.execute_reply": "2023-01-05T11:29:17.745859Z"
    },
    "papermill": {
     "duration": 0.035795,
     "end_time": "2023-01-05T11:29:17.749034",
     "exception": false,
     "start_time": "2023-01-05T11:29:17.713239",
     "status": "completed"
    },
    "tags": []
   },
   "outputs": [
    {
     "name": "stdout",
     "output_type": "stream",
     "text": [
      "Coeffiecients: \n",
      " [ 1.72268258e-03  5.67040755e-03  1.38385369e-05  6.57639992e-05\n",
      "  3.15645427e-05 -7.94102217e-04 -7.94102217e-04 -6.84367116e-04\n",
      "  1.79966197e-04  8.21372324e-02 -5.38343448e-02  8.96222991e-01\n",
      " -2.41529627e-04  3.60687263e-01]\n"
     ]
    }
   ],
   "source": [
    "# Printing out the coefficients of the model\n",
    "print('Coeffiecients: \\n',lt.coef_)"
   ]
  },
  {
   "cell_type": "code",
   "execution_count": 43,
   "id": "2a0715b7",
   "metadata": {
    "execution": {
     "iopub.execute_input": "2023-01-05T11:29:17.794544Z",
     "iopub.status.busy": "2023-01-05T11:29:17.794224Z",
     "iopub.status.idle": "2023-01-05T11:29:17.804021Z",
     "shell.execute_reply": "2023-01-05T11:29:17.803114Z"
    },
    "papermill": {
     "duration": 0.032416,
     "end_time": "2023-01-05T11:29:17.805862",
     "exception": false,
     "start_time": "2023-01-05T11:29:17.773446",
     "status": "completed"
    },
    "tags": []
   },
   "outputs": [
    {
     "data": {
      "text/html": [
       "<div>\n",
       "<style scoped>\n",
       "    .dataframe tbody tr th:only-of-type {\n",
       "        vertical-align: middle;\n",
       "    }\n",
       "\n",
       "    .dataframe tbody tr th {\n",
       "        vertical-align: top;\n",
       "    }\n",
       "\n",
       "    .dataframe thead th {\n",
       "        text-align: right;\n",
       "    }\n",
       "</style>\n",
       "<table border=\"1\" class=\"dataframe\">\n",
       "  <thead>\n",
       "    <tr style=\"text-align: right;\">\n",
       "      <th></th>\n",
       "      <th>Coeffecient</th>\n",
       "    </tr>\n",
       "  </thead>\n",
       "  <tbody>\n",
       "    <tr>\n",
       "      <th>Lever position</th>\n",
       "      <td>0.001723</td>\n",
       "    </tr>\n",
       "    <tr>\n",
       "      <th>Ship speed (v)</th>\n",
       "      <td>0.005670</td>\n",
       "    </tr>\n",
       "    <tr>\n",
       "      <th>GTT</th>\n",
       "      <td>0.000014</td>\n",
       "    </tr>\n",
       "    <tr>\n",
       "      <th>GTn</th>\n",
       "      <td>0.000066</td>\n",
       "    </tr>\n",
       "    <tr>\n",
       "      <th>GGn</th>\n",
       "      <td>0.000032</td>\n",
       "    </tr>\n",
       "    <tr>\n",
       "      <th>Ts</th>\n",
       "      <td>-0.000794</td>\n",
       "    </tr>\n",
       "    <tr>\n",
       "      <th>Tp</th>\n",
       "      <td>-0.000794</td>\n",
       "    </tr>\n",
       "    <tr>\n",
       "      <th>HP</th>\n",
       "      <td>-0.000684</td>\n",
       "    </tr>\n",
       "    <tr>\n",
       "      <th>T2</th>\n",
       "      <td>0.000180</td>\n",
       "    </tr>\n",
       "    <tr>\n",
       "      <th>P48</th>\n",
       "      <td>0.082137</td>\n",
       "    </tr>\n",
       "    <tr>\n",
       "      <th>P2</th>\n",
       "      <td>-0.053834</td>\n",
       "    </tr>\n",
       "    <tr>\n",
       "      <th>Pexh</th>\n",
       "      <td>0.896223</td>\n",
       "    </tr>\n",
       "    <tr>\n",
       "      <th>TIC</th>\n",
       "      <td>-0.000242</td>\n",
       "    </tr>\n",
       "    <tr>\n",
       "      <th>mf</th>\n",
       "      <td>0.360687</td>\n",
       "    </tr>\n",
       "  </tbody>\n",
       "</table>\n",
       "</div>"
      ],
      "text/plain": [
       "                Coeffecient\n",
       "Lever position     0.001723\n",
       "Ship speed (v)     0.005670\n",
       "GTT                0.000014\n",
       "GTn                0.000066\n",
       "GGn                0.000032\n",
       "Ts                -0.000794\n",
       "Tp                -0.000794\n",
       "HP                -0.000684\n",
       "T2                 0.000180\n",
       "P48                0.082137\n",
       "P2                -0.053834\n",
       "Pexh               0.896223\n",
       "TIC               -0.000242\n",
       "mf                 0.360687"
      ]
     },
     "execution_count": 43,
     "metadata": {},
     "output_type": "execute_result"
    }
   ],
   "source": [
    "# Recerating the coefficients of the model as dataframe\n",
    "coeffecients = pd.DataFrame(lt.coef_,X.columns)\n",
    "coeffecients.columns = ['Coeffecient']\n",
    "coeffecients"
   ]
  },
  {
   "cell_type": "code",
   "execution_count": 44,
   "id": "442f9719",
   "metadata": {
    "execution": {
     "iopub.execute_input": "2023-01-05T11:29:17.844640Z",
     "iopub.status.busy": "2023-01-05T11:29:17.843936Z",
     "iopub.status.idle": "2023-01-05T11:29:17.851921Z",
     "shell.execute_reply": "2023-01-05T11:29:17.850752Z"
    },
    "papermill": {
     "duration": 0.030682,
     "end_time": "2023-01-05T11:29:17.855040",
     "exception": false,
     "start_time": "2023-01-05T11:29:17.824358",
     "status": "completed"
    },
    "tags": []
   },
   "outputs": [
    {
     "name": "stdout",
     "output_type": "stream",
     "text": [
      "RMSE: 0.002263609402560576\n",
      "R2 score: 0.9086685819641146\n"
     ]
    }
   ],
   "source": [
    "# Checking the RMSE and r2_score value between y_test and predicted y_test values\n",
    "print('RMSE:', np.sqrt(metrics.mean_squared_error(y_test, preds)))\n",
    "print('R2 score:', metrics.r2_score(y_test, preds))"
   ]
  },
  {
   "cell_type": "code",
   "execution_count": 45,
   "id": "2f8cbe8b",
   "metadata": {
    "execution": {
     "iopub.execute_input": "2023-01-05T11:29:17.894063Z",
     "iopub.status.busy": "2023-01-05T11:29:17.893146Z",
     "iopub.status.idle": "2023-01-05T11:29:18.118896Z",
     "shell.execute_reply": "2023-01-05T11:29:18.117414Z"
    },
    "papermill": {
     "duration": 0.247342,
     "end_time": "2023-01-05T11:29:18.121058",
     "exception": false,
     "start_time": "2023-01-05T11:29:17.873716",
     "status": "completed"
    },
    "tags": []
   },
   "outputs": [
    {
     "data": {
      "text/plain": [
       "Text(0, 0.5, 'Predicted Y')"
      ]
     },
     "execution_count": 45,
     "metadata": {},
     "output_type": "execute_result"
    },
    {
     "data": {
      "image/png": "[encoded data removed]",
      "text/plain": [
       "<Figure size 432x288 with 1 Axes>"
      ]
     },
     "metadata": {},
     "output_type": "display_data"
    }
   ],
   "source": [
    "# Creatinng a scatterplot of the y_test values vs the predicted y_test values\n",
    "sns.set_style('darkgrid')\n",
    "plt.scatter(y_test,preds)\n",
    "plt.xlabel('Y Test')\n",
    "plt.ylabel('Predicted Y')"
   ]
  },
  {
   "cell_type": "code",
   "execution_count": 46,
   "id": "0c73bd03",
   "metadata": {
    "execution": {
     "iopub.execute_input": "2023-01-05T11:29:18.160983Z",
     "iopub.status.busy": "2023-01-05T11:29:18.160338Z",
     "iopub.status.idle": "2023-01-05T11:29:18.372634Z",
     "shell.execute_reply": "2023-01-05T11:29:18.370907Z"
    },
    "papermill": {
     "duration": 0.235716,
     "end_time": "2023-01-05T11:29:18.375613",
     "exception": false,
     "start_time": "2023-01-05T11:29:18.139897",
     "status": "completed"
    },
    "tags": []
   },
   "outputs": [
    {
     "name": "stdout",
     "output_type": "stream",
     "text": [
      "                            OLS Regression Results                            \n",
      "==============================================================================\n",
      "Dep. Variable:            Turbine DSC   R-squared:                       0.911\n",
      "Model:                            OLS   Adj. R-squared:                  0.911\n",
      "Method:                 Least Squares   F-statistic:                     9385.\n",
      "Date:                Thu, 05 Jan 2023   Prob (F-statistic):               0.00\n",
      "Time:                        11:29:18   Log-Likelihood:                 55892.\n",
      "No. Observations:               11934   AIC:                        -1.118e+05\n",
      "Df Residuals:                   11920   BIC:                        -1.117e+05\n",
      "Df Model:                          13                                         \n",
      "Covariance Type:            nonrobust                                         \n",
      "==================================================================================\n",
      "                     coef    std err          t      P>|t|      [0.025      0.975]\n",
      "----------------------------------------------------------------------------------\n",
      "const              0.1430      0.072      1.987      0.047       0.002       0.284\n",
      "Lever position     0.0012      0.002      0.761      0.447      -0.002       0.004\n",
      "Ship speed (v)     0.0058      0.001     11.574      0.000       0.005       0.007\n",
      "GTT             1.381e-05   1.28e-07    108.166      0.000    1.36e-05    1.41e-05\n",
      "GTn             6.543e-05   1.06e-06     61.869      0.000    6.34e-05    6.75e-05\n",
      "GGn             3.148e-05    3.1e-07    101.400      0.000    3.09e-05    3.21e-05\n",
      "Ts                -0.0008   5.62e-06   -140.896      0.000      -0.001      -0.001\n",
      "Tp                -0.0008   5.62e-06   -140.896      0.000      -0.001      -0.001\n",
      "HP                -0.0007   7.01e-06    -97.080      0.000      -0.001      -0.001\n",
      "T2                 0.0002   1.11e-05     16.486      0.000       0.000       0.000\n",
      "P48                0.0817      0.003     24.281      0.000       0.075       0.088\n",
      "P2                -0.0538      0.000   -179.730      0.000      -0.054      -0.053\n",
      "Pexh               0.9313      0.071     13.186      0.000       0.793       1.070\n",
      "TIC               -0.0002   6.37e-06    -37.456      0.000      -0.000      -0.000\n",
      "mf                 0.3589      0.004     83.724      0.000       0.350       0.367\n",
      "==============================================================================\n",
      "Omnibus:                      424.515   Durbin-Watson:                   1.537\n",
      "Prob(Omnibus):                  0.000   Jarque-Bera (JB):             1083.443\n",
      "Skew:                           0.156   Prob(JB):                    5.41e-236\n",
      "Kurtosis:                       4.443   Cond. No.                     2.35e+19\n",
      "==============================================================================\n",
      "\n",
      "Notes:\n",
      "[1] Standard Errors assume that the covariance matrix of the errors is correctly specified.\n",
      "[2] The smallest eigenvalue is 2.79e-26. This might indicate that there are\n",
      "strong multicollinearity problems or that the design matrix is singular.\n"
     ]
    }
   ],
   "source": [
    "# Calling the linear regression function and print the model summary\n",
    "linear_Regression(X,y)"
   ]
  },
  {
   "cell_type": "markdown",
   "id": "7acc3413",
   "metadata": {
    "papermill": {
     "duration": 0.020195,
     "end_time": "2023-01-05T11:29:18.416046",
     "exception": false,
     "start_time": "2023-01-05T11:29:18.395851",
     "status": "completed"
    },
    "tags": []
   },
   "source": [
    "## Inference from Model 2\n",
    "\n",
    "1. The **R-squared** value is **0.911** which states that about **91.1%** of proportion of **variability** in data can be explained by this **linear regression model**. The **R-squared** is the most **important parameter** for a **model evaluation**. Higher the value, better is the fit. \n",
    "2. The **p-value** is the most **important measure** for evaluating the various **variables**. Closer is the **p-value to 1**, the **lesser** is that **feature variable** has to do with the **label variable**.In our model, all the considered features **do** play an **important role** in predicting the label.\n",
    "3. Finally, the **expression** for this model can be written from the **coefficients** as follows\n",
    "\n",
    "**GT Turbine decay state coefficient = 0.1430 + 0.0012 * Lever position + 0.0058 * Ship speed + 1.381e-05 * GTT + 6.543e-05 * GTn + 3.148e-05 * GGn - 0.0008 * Ts - 0.0008 * Tp + 0.0007 * HP + 0.0002 * T2 + 0.0817 * P48 - 0.0538 * P2 + 0.9313 * Pexh - 0.0002 * TIC + 0.3589 * mf**"
   ]
  },
  {
   "cell_type": "markdown",
   "id": "e21fd286",
   "metadata": {
    "papermill": {
     "duration": 0.01844,
     "end_time": "2023-01-05T11:29:18.453823",
     "exception": false,
     "start_time": "2023-01-05T11:29:18.435383",
     "status": "completed"
    },
    "tags": []
   },
   "source": [
    "## Model 2 Summary\n",
    "\n",
    "- Alright now, we have an R-squared of 91.1% or 0.911 which is very high.\n",
    "- Hence, we will stop here and declare this model as the most suitable for predicting GT Turbine decay state coefficient."
   ]
  },
  {
   "cell_type": "markdown",
   "id": "684cacd7",
   "metadata": {
    "papermill": {
     "duration": 0.019081,
     "end_time": "2023-01-05T11:29:18.492988",
     "exception": false,
     "start_time": "2023-01-05T11:29:18.473907",
     "status": "completed"
    },
    "tags": []
   },
   "source": [
    "# Overall Summary\n",
    "\n",
    "1. In this notebook, we have studied the relationship between the 14 features and the 2 labels.\n",
    "2. The GT Turbine decay state coefficient behaves perfectly with the 14 features considered whereas the GT Compressor decay state coefficient behaves linearly with only 12 features as the remaining 2 features were irrelevant in predicting the coeffecient.\n",
    "3. During Model 1, initially the R-squared value was just 84.3% and the model is further improved by considering interaction terms based on the correlation heatmap after which the R-squared value has been increased to 93.5% and thus declaring the model as the most suitable for predicting GT Compressor decay state coefficient.\n",
    "3. So, this is how you perform a Linear regression study on a given dataset."
   ]
  },
  {
   "cell_type": "markdown",
   "id": "5e609ecb",
   "metadata": {
    "papermill": {
     "duration": 0.01895,
     "end_time": "2023-01-05T11:29:18.531806",
     "exception": false,
     "start_time": "2023-01-05T11:29:18.512856",
     "status": "completed"
    },
    "tags": []
   },
   "source": [
    "### If you like the work, consider leaving an upvote.\n",
    "\n",
    "## THANKS!!!"
   ]
  },
  {
   "cell_type": "code",
   "execution_count": 87,
   "id": "e8c7a448",
   "metadata": {},
   "outputs": [
    {
     "ename": "NameError",
     "evalue": "name 'preds' is not defined",
     "output_type": "error",
     "traceback": [
      "\u001b[1;31m---------------------------------------------------------------------------\u001b[0m",
      "\u001b[1;31mNameError\u001b[0m                                 Traceback (most recent call last)",
      "Cell \u001b[1;32mIn[87], line 1\u001b[0m\n\u001b[1;32m----> 1\u001b[0m \u001b[43mpreds\u001b[49m\n",
      "\u001b[1;31mNameError\u001b[0m: name 'preds' is not defined"
     ]
    }
   ],
   "source": [
    "preds"
   ]
  },
  {
   "cell_type": "code",
   "execution_count": null,
   "id": "5756c854",
   "metadata": {},
   "outputs": [],
   "source": []
  }
 ],
 "metadata": {
  "kernelspec": {
   "display_name": "Python 3",
   "language": "python",
   "name": "python3"
  },
  "language_info": {
   "codemirror_mode": {
    "name": "ipython",
    "version": 3
   },
   "file_extension": ".py",
   "mimetype": "text/x-python",
   "name": "python",
   "nbconvert_exporter": "python",
   "pygments_lexer": "ipython3",
   "version": "3.11.5"
  },
  "papermill": {
   "default_parameters": {},
   "duration": 19.364804,
   "end_time": "2023-01-05T11:29:19.372221",
   "environment_variables": {},
   "exception": null,
   "input_path": "__notebook__.ipynb",
   "output_path": "__notebook__.ipynb",
   "parameters": {},
   "start_time": "2023-01-05T11:29:00.007417",
   "version": "2.3.4"
  }
 },
 "nbformat": 4,
 "nbformat_minor": 5
}
